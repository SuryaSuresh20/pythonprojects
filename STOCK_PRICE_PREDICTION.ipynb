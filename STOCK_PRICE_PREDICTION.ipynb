{
 "cells": [
  {
   "cell_type": "code",
   "execution_count": 2,
   "metadata": {
    "colab": {
     "base_uri": "https://localhost:8080/",
     "height": 1000
    },
    "id": "OE8W884PK5Kd",
    "outputId": "f0c3a767-0d05-4e28-fff0-bf7a3f9bce6a"
   },
   "outputs": [
    {
     "name": "stdout",
     "output_type": "stream",
     "text": [
      "Collecting streamlit\n",
      "  Downloading streamlit-1.8.0-py2.py3-none-any.whl (10.1 MB)\n",
      "\u001b[K     |████████████████████████████████| 10.1 MB 12.4 MB/s \n",
      "\u001b[?25hCollecting validators\n",
      "  Downloading validators-0.18.2-py3-none-any.whl (19 kB)\n",
      "Requirement already satisfied: importlib-metadata>=1.4 in /usr/local/lib/python3.7/dist-packages (from streamlit) (4.11.3)\n",
      "Requirement already satisfied: pillow>=6.2.0 in /usr/local/lib/python3.7/dist-packages (from streamlit) (7.1.2)\n",
      "Requirement already satisfied: altair>=3.2.0 in /usr/local/lib/python3.7/dist-packages (from streamlit) (4.2.0)\n",
      "Collecting blinker\n",
      "  Downloading blinker-1.4.tar.gz (111 kB)\n",
      "\u001b[K     |████████████████████████████████| 111 kB 39.5 MB/s \n",
      "\u001b[?25hCollecting pympler>=0.9\n",
      "  Downloading Pympler-1.0.1-py3-none-any.whl (164 kB)\n",
      "\u001b[K     |████████████████████████████████| 164 kB 49.1 MB/s \n",
      "\u001b[?25hCollecting gitpython!=3.1.19\n",
      "  Downloading GitPython-3.1.27-py3-none-any.whl (181 kB)\n",
      "\u001b[K     |████████████████████████████████| 181 kB 47.2 MB/s \n",
      "\u001b[?25hRequirement already satisfied: semver in /usr/local/lib/python3.7/dist-packages (from streamlit) (2.13.0)\n",
      "Requirement already satisfied: click>=7.0 in /usr/local/lib/python3.7/dist-packages (from streamlit) (7.1.2)\n",
      "Requirement already satisfied: tzlocal in /usr/local/lib/python3.7/dist-packages (from streamlit) (1.5.1)\n",
      "Requirement already satisfied: pandas>=0.21.0 in /usr/local/lib/python3.7/dist-packages (from streamlit) (1.3.5)\n",
      "Collecting watchdog\n",
      "  Downloading watchdog-2.1.7-py3-none-manylinux2014_x86_64.whl (76 kB)\n",
      "\u001b[K     |████████████████████████████████| 76 kB 5.4 MB/s \n",
      "\u001b[?25hRequirement already satisfied: pyarrow in /usr/local/lib/python3.7/dist-packages (from streamlit) (6.0.1)\n",
      "Requirement already satisfied: tornado>=5.0 in /usr/local/lib/python3.7/dist-packages (from streamlit) (5.1.1)\n",
      "Requirement already satisfied: requests in /usr/local/lib/python3.7/dist-packages (from streamlit) (2.23.0)\n",
      "Collecting toml\n",
      "  Downloading toml-0.10.2-py2.py3-none-any.whl (16 kB)\n",
      "Requirement already satisfied: numpy in /usr/local/lib/python3.7/dist-packages (from streamlit) (1.21.5)\n",
      "Requirement already satisfied: packaging in /usr/local/lib/python3.7/dist-packages (from streamlit) (21.3)\n",
      "Requirement already satisfied: cachetools>=4.0 in /usr/local/lib/python3.7/dist-packages (from streamlit) (4.2.4)\n",
      "Requirement already satisfied: attrs in /usr/local/lib/python3.7/dist-packages (from streamlit) (21.4.0)\n",
      "Collecting pydeck>=0.1.dev5\n",
      "  Downloading pydeck-0.7.1-py2.py3-none-any.whl (4.3 MB)\n",
      "\u001b[K     |████████████████████████████████| 4.3 MB 53.2 MB/s \n",
      "\u001b[?25hRequirement already satisfied: python-dateutil in /usr/local/lib/python3.7/dist-packages (from streamlit) (2.8.2)\n",
      "Requirement already satisfied: typing-extensions in /usr/local/lib/python3.7/dist-packages (from streamlit) (3.10.0.2)\n",
      "Requirement already satisfied: protobuf!=3.11,>=3.6.0 in /usr/local/lib/python3.7/dist-packages (from streamlit) (3.17.3)\n",
      "Requirement already satisfied: jinja2 in /usr/local/lib/python3.7/dist-packages (from altair>=3.2.0->streamlit) (2.11.3)\n",
      "Requirement already satisfied: toolz in /usr/local/lib/python3.7/dist-packages (from altair>=3.2.0->streamlit) (0.11.2)\n",
      "Requirement already satisfied: entrypoints in /usr/local/lib/python3.7/dist-packages (from altair>=3.2.0->streamlit) (0.4)\n",
      "Requirement already satisfied: jsonschema>=3.0 in /usr/local/lib/python3.7/dist-packages (from altair>=3.2.0->streamlit) (4.3.3)\n",
      "Collecting gitdb<5,>=4.0.1\n",
      "  Downloading gitdb-4.0.9-py3-none-any.whl (63 kB)\n",
      "\u001b[K     |████████████████████████████████| 63 kB 1.6 MB/s \n",
      "\u001b[?25hCollecting smmap<6,>=3.0.1\n",
      "  Downloading smmap-5.0.0-py3-none-any.whl (24 kB)\n",
      "Requirement already satisfied: zipp>=0.5 in /usr/local/lib/python3.7/dist-packages (from importlib-metadata>=1.4->streamlit) (3.7.0)\n",
      "Requirement already satisfied: importlib-resources>=1.4.0 in /usr/local/lib/python3.7/dist-packages (from jsonschema>=3.0->altair>=3.2.0->streamlit) (5.4.0)\n",
      "Requirement already satisfied: pyrsistent!=0.17.0,!=0.17.1,!=0.17.2,>=0.14.0 in /usr/local/lib/python3.7/dist-packages (from jsonschema>=3.0->altair>=3.2.0->streamlit) (0.18.1)\n",
      "Requirement already satisfied: pytz>=2017.3 in /usr/local/lib/python3.7/dist-packages (from pandas>=0.21.0->streamlit) (2018.9)\n",
      "Requirement already satisfied: six>=1.9 in /usr/local/lib/python3.7/dist-packages (from protobuf!=3.11,>=3.6.0->streamlit) (1.15.0)\n",
      "Requirement already satisfied: ipywidgets>=7.0.0 in /usr/local/lib/python3.7/dist-packages (from pydeck>=0.1.dev5->streamlit) (7.7.0)\n",
      "Requirement already satisfied: traitlets>=4.3.2 in /usr/local/lib/python3.7/dist-packages (from pydeck>=0.1.dev5->streamlit) (5.1.1)\n",
      "Collecting ipykernel>=5.1.2\n",
      "  Downloading ipykernel-6.10.0-py3-none-any.whl (130 kB)\n",
      "\u001b[K     |████████████████████████████████| 130 kB 51.0 MB/s \n",
      "\u001b[?25hCollecting ipython>=7.23.1\n",
      "  Downloading ipython-7.32.0-py3-none-any.whl (793 kB)\n",
      "\u001b[K     |████████████████████████████████| 793 kB 51.4 MB/s \n",
      "\u001b[?25hRequirement already satisfied: debugpy<2.0,>=1.0.0 in /usr/local/lib/python3.7/dist-packages (from ipykernel>=5.1.2->pydeck>=0.1.dev5->streamlit) (1.0.0)\n",
      "Requirement already satisfied: nest-asyncio in /usr/local/lib/python3.7/dist-packages (from ipykernel>=5.1.2->pydeck>=0.1.dev5->streamlit) (1.5.4)\n",
      "Requirement already satisfied: psutil in /usr/local/lib/python3.7/dist-packages (from ipykernel>=5.1.2->pydeck>=0.1.dev5->streamlit) (5.4.8)\n",
      "Requirement already satisfied: jupyter-client<8.0 in /usr/local/lib/python3.7/dist-packages (from ipykernel>=5.1.2->pydeck>=0.1.dev5->streamlit) (5.3.5)\n",
      "Requirement already satisfied: matplotlib-inline<0.2.0,>=0.1.0 in /usr/local/lib/python3.7/dist-packages (from ipykernel>=5.1.2->pydeck>=0.1.dev5->streamlit) (0.1.3)\n",
      "Requirement already satisfied: pygments in /usr/local/lib/python3.7/dist-packages (from ipython>=7.23.1->ipykernel>=5.1.2->pydeck>=0.1.dev5->streamlit) (2.6.1)\n",
      "Requirement already satisfied: jedi>=0.16 in /usr/local/lib/python3.7/dist-packages (from ipython>=7.23.1->ipykernel>=5.1.2->pydeck>=0.1.dev5->streamlit) (0.18.1)\n",
      "Collecting prompt-toolkit!=3.0.0,!=3.0.1,<3.1.0,>=2.0.0\n",
      "  Downloading prompt_toolkit-3.0.28-py3-none-any.whl (380 kB)\n",
      "\u001b[K     |████████████████████████████████| 380 kB 67.8 MB/s \n",
      "\u001b[?25hRequirement already satisfied: setuptools>=18.5 in /usr/local/lib/python3.7/dist-packages (from ipython>=7.23.1->ipykernel>=5.1.2->pydeck>=0.1.dev5->streamlit) (57.4.0)\n",
      "Requirement already satisfied: backcall in /usr/local/lib/python3.7/dist-packages (from ipython>=7.23.1->ipykernel>=5.1.2->pydeck>=0.1.dev5->streamlit) (0.2.0)\n",
      "Requirement already satisfied: decorator in /usr/local/lib/python3.7/dist-packages (from ipython>=7.23.1->ipykernel>=5.1.2->pydeck>=0.1.dev5->streamlit) (4.4.2)\n",
      "Requirement already satisfied: pexpect>4.3 in /usr/local/lib/python3.7/dist-packages (from ipython>=7.23.1->ipykernel>=5.1.2->pydeck>=0.1.dev5->streamlit) (4.8.0)\n",
      "Requirement already satisfied: pickleshare in /usr/local/lib/python3.7/dist-packages (from ipython>=7.23.1->ipykernel>=5.1.2->pydeck>=0.1.dev5->streamlit) (0.7.5)\n",
      "Requirement already satisfied: jupyterlab-widgets>=1.0.0 in /usr/local/lib/python3.7/dist-packages (from ipywidgets>=7.0.0->pydeck>=0.1.dev5->streamlit) (1.1.0)\n",
      "Requirement already satisfied: widgetsnbextension~=3.6.0 in /usr/local/lib/python3.7/dist-packages (from ipywidgets>=7.0.0->pydeck>=0.1.dev5->streamlit) (3.6.0)\n",
      "Requirement already satisfied: ipython-genutils~=0.2.0 in /usr/local/lib/python3.7/dist-packages (from ipywidgets>=7.0.0->pydeck>=0.1.dev5->streamlit) (0.2.0)\n",
      "Requirement already satisfied: nbformat>=4.2.0 in /usr/local/lib/python3.7/dist-packages (from ipywidgets>=7.0.0->pydeck>=0.1.dev5->streamlit) (5.2.0)\n",
      "Requirement already satisfied: parso<0.9.0,>=0.8.0 in /usr/local/lib/python3.7/dist-packages (from jedi>=0.16->ipython>=7.23.1->ipykernel>=5.1.2->pydeck>=0.1.dev5->streamlit) (0.8.3)\n",
      "Requirement already satisfied: MarkupSafe>=0.23 in /usr/local/lib/python3.7/dist-packages (from jinja2->altair>=3.2.0->streamlit) (2.0.1)\n",
      "Requirement already satisfied: jupyter-core>=4.6.0 in /usr/local/lib/python3.7/dist-packages (from jupyter-client<8.0->ipykernel>=5.1.2->pydeck>=0.1.dev5->streamlit) (4.9.2)\n",
      "Requirement already satisfied: pyzmq>=13 in /usr/local/lib/python3.7/dist-packages (from jupyter-client<8.0->ipykernel>=5.1.2->pydeck>=0.1.dev5->streamlit) (22.3.0)\n",
      "Requirement already satisfied: ptyprocess>=0.5 in /usr/local/lib/python3.7/dist-packages (from pexpect>4.3->ipython>=7.23.1->ipykernel>=5.1.2->pydeck>=0.1.dev5->streamlit) (0.7.0)\n",
      "Requirement already satisfied: wcwidth in /usr/local/lib/python3.7/dist-packages (from prompt-toolkit!=3.0.0,!=3.0.1,<3.1.0,>=2.0.0->ipython>=7.23.1->ipykernel>=5.1.2->pydeck>=0.1.dev5->streamlit) (0.2.5)\n",
      "Requirement already satisfied: notebook>=4.4.1 in /usr/local/lib/python3.7/dist-packages (from widgetsnbextension~=3.6.0->ipywidgets>=7.0.0->pydeck>=0.1.dev5->streamlit) (5.3.1)\n",
      "Requirement already satisfied: nbconvert in /usr/local/lib/python3.7/dist-packages (from notebook>=4.4.1->widgetsnbextension~=3.6.0->ipywidgets>=7.0.0->pydeck>=0.1.dev5->streamlit) (5.6.1)\n",
      "Requirement already satisfied: Send2Trash in /usr/local/lib/python3.7/dist-packages (from notebook>=4.4.1->widgetsnbextension~=3.6.0->ipywidgets>=7.0.0->pydeck>=0.1.dev5->streamlit) (1.8.0)\n",
      "Requirement already satisfied: terminado>=0.8.1 in /usr/local/lib/python3.7/dist-packages (from notebook>=4.4.1->widgetsnbextension~=3.6.0->ipywidgets>=7.0.0->pydeck>=0.1.dev5->streamlit) (0.13.3)\n",
      "Requirement already satisfied: pandocfilters>=1.4.1 in /usr/local/lib/python3.7/dist-packages (from nbconvert->notebook>=4.4.1->widgetsnbextension~=3.6.0->ipywidgets>=7.0.0->pydeck>=0.1.dev5->streamlit) (1.5.0)\n",
      "Requirement already satisfied: mistune<2,>=0.8.1 in /usr/local/lib/python3.7/dist-packages (from nbconvert->notebook>=4.4.1->widgetsnbextension~=3.6.0->ipywidgets>=7.0.0->pydeck>=0.1.dev5->streamlit) (0.8.4)\n",
      "Requirement already satisfied: testpath in /usr/local/lib/python3.7/dist-packages (from nbconvert->notebook>=4.4.1->widgetsnbextension~=3.6.0->ipywidgets>=7.0.0->pydeck>=0.1.dev5->streamlit) (0.6.0)\n",
      "Requirement already satisfied: bleach in /usr/local/lib/python3.7/dist-packages (from nbconvert->notebook>=4.4.1->widgetsnbextension~=3.6.0->ipywidgets>=7.0.0->pydeck>=0.1.dev5->streamlit) (4.1.0)\n",
      "Requirement already satisfied: defusedxml in /usr/local/lib/python3.7/dist-packages (from nbconvert->notebook>=4.4.1->widgetsnbextension~=3.6.0->ipywidgets>=7.0.0->pydeck>=0.1.dev5->streamlit) (0.7.1)\n",
      "Requirement already satisfied: webencodings in /usr/local/lib/python3.7/dist-packages (from bleach->nbconvert->notebook>=4.4.1->widgetsnbextension~=3.6.0->ipywidgets>=7.0.0->pydeck>=0.1.dev5->streamlit) (0.5.1)\n",
      "Requirement already satisfied: pyparsing!=3.0.5,>=2.0.2 in /usr/local/lib/python3.7/dist-packages (from packaging->streamlit) (3.0.7)\n",
      "Requirement already satisfied: certifi>=2017.4.17 in /usr/local/lib/python3.7/dist-packages (from requests->streamlit) (2021.10.8)\n",
      "Requirement already satisfied: urllib3!=1.25.0,!=1.25.1,<1.26,>=1.21.1 in /usr/local/lib/python3.7/dist-packages (from requests->streamlit) (1.24.3)\n",
      "Requirement already satisfied: idna<3,>=2.5 in /usr/local/lib/python3.7/dist-packages (from requests->streamlit) (2.10)\n",
      "Requirement already satisfied: chardet<4,>=3.0.2 in /usr/local/lib/python3.7/dist-packages (from requests->streamlit) (3.0.4)\n",
      "Building wheels for collected packages: blinker\n",
      "  Building wheel for blinker (setup.py) ... \u001b[?25l\u001b[?25hdone\n",
      "  Created wheel for blinker: filename=blinker-1.4-py3-none-any.whl size=13478 sha256=e5d2097691a299b813cecd8db17893088abae3c860db749b809b4a2875a72bc8\n",
      "  Stored in directory: /root/.cache/pip/wheels/22/f5/18/df711b66eb25b21325c132757d4314db9ac5e8dabeaf196eab\n",
      "Successfully built blinker\n",
      "Installing collected packages: prompt-toolkit, ipython, ipykernel, smmap, gitdb, watchdog, validators, toml, pympler, pydeck, gitpython, blinker, streamlit\n",
      "  Attempting uninstall: prompt-toolkit\n",
      "    Found existing installation: prompt-toolkit 1.0.18\n",
      "    Uninstalling prompt-toolkit-1.0.18:\n",
      "      Successfully uninstalled prompt-toolkit-1.0.18\n",
      "  Attempting uninstall: ipython\n",
      "    Found existing installation: ipython 5.5.0\n",
      "    Uninstalling ipython-5.5.0:\n",
      "      Successfully uninstalled ipython-5.5.0\n",
      "  Attempting uninstall: ipykernel\n",
      "    Found existing installation: ipykernel 4.10.1\n",
      "    Uninstalling ipykernel-4.10.1:\n",
      "      Successfully uninstalled ipykernel-4.10.1\n",
      "\u001b[31mERROR: pip's dependency resolver does not currently take into account all the packages that are installed. This behaviour is the source of the following dependency conflicts.\n",
      "jupyter-console 5.2.0 requires prompt-toolkit<2.0.0,>=1.0.0, but you have prompt-toolkit 3.0.28 which is incompatible.\n",
      "google-colab 1.0.0 requires ipykernel~=4.10, but you have ipykernel 6.10.0 which is incompatible.\n",
      "google-colab 1.0.0 requires ipython~=5.5.0, but you have ipython 7.32.0 which is incompatible.\u001b[0m\n",
      "Successfully installed blinker-1.4 gitdb-4.0.9 gitpython-3.1.27 ipykernel-6.10.0 ipython-7.32.0 prompt-toolkit-3.0.28 pydeck-0.7.1 pympler-1.0.1 smmap-5.0.0 streamlit-1.8.0 toml-0.10.2 validators-0.18.2 watchdog-2.1.7\n"
     ]
    },
    {
     "data": {
      "application/vnd.colab-display-data+json": {
       "pip_warning": {
        "packages": [
         "IPython",
         "ipykernel",
         "prompt_toolkit"
        ]
       }
      }
     },
     "metadata": {},
     "output_type": "display_data"
    }
   ],
   "source": [
    "pip install streamlit"
   ]
  },
  {
   "cell_type": "code",
   "execution_count": 1,
   "metadata": {
    "colab": {
     "base_uri": "https://localhost:8080/"
    },
    "id": "ebzL76sHT3C4",
    "outputId": "9c441827-4f41-41c1-d9d2-579580d65794"
   },
   "outputs": [
    {
     "name": "stdout",
     "output_type": "stream",
     "text": [
      "/content/drive/MyDrive/stock price\n"
     ]
    }
   ],
   "source": [
    "%cd drive/MyDrive/stock\\ price"
   ]
  },
  {
   "cell_type": "code",
   "execution_count": 2,
   "metadata": {
    "colab": {
     "base_uri": "https://localhost:8080/"
    },
    "id": "QScsks8oVHdS",
    "outputId": "677dbc5c-e112-4b76-ce2f-099d955fa1ec"
   },
   "outputs": [
    {
     "name": "stdout",
     "output_type": "stream",
     "text": [
      " GOOG-year.csv\t       'Tata Motors Limited.csv'   WIT.csv\n",
      "'Tata Motors Limited'   TTM.csv\n"
     ]
    }
   ],
   "source": [
    "!ls"
   ]
  },
  {
   "cell_type": "code",
   "execution_count": 3,
   "metadata": {
    "id": "PnE9qPwtVU1D"
   },
   "outputs": [],
   "source": [
    "### Data Collection\n",
    "import pandas_datareader as pdr\n",
    "key=\"aae7a4762d23ae5d857eec4f2e562f388894b02b\""
   ]
  },
  {
   "cell_type": "code",
   "execution_count": 4,
   "metadata": {
    "colab": {
     "base_uri": "https://localhost:8080/"
    },
    "id": "KRMH7NO0VWiR",
    "outputId": "ff6bdd49-e389-4a8d-a135-eeadb8cacd8f"
   },
   "outputs": [
    {
     "name": "stderr",
     "output_type": "stream",
     "text": [
      "/usr/local/lib/python3.7/dist-packages/pandas_datareader/tiingo.py:234: FutureWarning: In a future version of pandas all arguments of concat except for the argument 'objs' will be keyword-only\n",
      "  return pd.concat(dfs, self._concat_axis)\n"
     ]
    }
   ],
   "source": [
    "df = pdr.get_data_tiingo('TTM', api_key=key)"
   ]
  },
  {
   "cell_type": "code",
   "execution_count": 5,
   "metadata": {
    "id": "gVjFbdrJVjiK"
   },
   "outputs": [],
   "source": [
    "df.to_csv('Tata Motors Limited')"
   ]
  },
  {
   "cell_type": "code",
   "execution_count": null,
   "metadata": {
    "id": "r0lA-5VjYRcl"
   },
   "outputs": [],
   "source": [
    "import pandas as pd"
   ]
  },
  {
   "cell_type": "code",
   "execution_count": null,
   "metadata": {
    "id": "UnbWKiggYRsu"
   },
   "outputs": [],
   "source": [
    "df=pd.read_csv('TTM.csv')"
   ]
  },
  {
   "cell_type": "code",
   "execution_count": null,
   "metadata": {
    "colab": {
     "base_uri": "https://localhost:8080/",
     "height": 206
    },
    "id": "K5x53moIV5N7",
    "outputId": "ed6f5a15-8fc5-4637-8483-a868ad1a8726"
   },
   "outputs": [
    {
     "data": {
      "text/html": [
       "\n",
       "  <div id=\"df-5d54fdc1-157b-47c7-9c40-a3aefd4431a6\">\n",
       "    <div class=\"colab-df-container\">\n",
       "      <div>\n",
       "<style scoped>\n",
       "    .dataframe tbody tr th:only-of-type {\n",
       "        vertical-align: middle;\n",
       "    }\n",
       "\n",
       "    .dataframe tbody tr th {\n",
       "        vertical-align: top;\n",
       "    }\n",
       "\n",
       "    .dataframe thead th {\n",
       "        text-align: right;\n",
       "    }\n",
       "</style>\n",
       "<table border=\"1\" class=\"dataframe\">\n",
       "  <thead>\n",
       "    <tr style=\"text-align: right;\">\n",
       "      <th></th>\n",
       "      <th>Date</th>\n",
       "      <th>Open</th>\n",
       "      <th>High</th>\n",
       "      <th>Low</th>\n",
       "      <th>Close</th>\n",
       "      <th>Adj Close</th>\n",
       "      <th>Volume</th>\n",
       "    </tr>\n",
       "  </thead>\n",
       "  <tbody>\n",
       "    <tr>\n",
       "      <th>0</th>\n",
       "      <td>2016-09-02</td>\n",
       "      <td>41.470001</td>\n",
       "      <td>42.470001</td>\n",
       "      <td>41.459999</td>\n",
       "      <td>42.230000</td>\n",
       "      <td>42.230000</td>\n",
       "      <td>3019600</td>\n",
       "    </tr>\n",
       "    <tr>\n",
       "      <th>1</th>\n",
       "      <td>2016-09-06</td>\n",
       "      <td>43.869999</td>\n",
       "      <td>44.439999</td>\n",
       "      <td>43.799999</td>\n",
       "      <td>44.240002</td>\n",
       "      <td>44.240002</td>\n",
       "      <td>3401400</td>\n",
       "    </tr>\n",
       "    <tr>\n",
       "      <th>2</th>\n",
       "      <td>2016-09-07</td>\n",
       "      <td>44.200001</td>\n",
       "      <td>44.790001</td>\n",
       "      <td>44.180000</td>\n",
       "      <td>44.290001</td>\n",
       "      <td>44.290001</td>\n",
       "      <td>1547700</td>\n",
       "    </tr>\n",
       "    <tr>\n",
       "      <th>3</th>\n",
       "      <td>2016-09-08</td>\n",
       "      <td>44.040001</td>\n",
       "      <td>44.150002</td>\n",
       "      <td>43.730000</td>\n",
       "      <td>43.759998</td>\n",
       "      <td>43.759998</td>\n",
       "      <td>1411600</td>\n",
       "    </tr>\n",
       "    <tr>\n",
       "      <th>4</th>\n",
       "      <td>2016-09-09</td>\n",
       "      <td>43.049999</td>\n",
       "      <td>43.130001</td>\n",
       "      <td>42.169998</td>\n",
       "      <td>42.169998</td>\n",
       "      <td>42.169998</td>\n",
       "      <td>1935400</td>\n",
       "    </tr>\n",
       "  </tbody>\n",
       "</table>\n",
       "</div>\n",
       "      <button class=\"colab-df-convert\" onclick=\"convertToInteractive('df-5d54fdc1-157b-47c7-9c40-a3aefd4431a6')\"\n",
       "              title=\"Convert this dataframe to an interactive table.\"\n",
       "              style=\"display:none;\">\n",
       "        \n",
       "  <svg xmlns=\"http://www.w3.org/2000/svg\" height=\"24px\"viewBox=\"0 0 24 24\"\n",
       "       width=\"24px\">\n",
       "    <path d=\"M0 0h24v24H0V0z\" fill=\"none\"/>\n",
       "    <path d=\"M18.56 5.44l.94 2.06.94-2.06 2.06-.94-2.06-.94-.94-2.06-.94 2.06-2.06.94zm-11 1L8.5 8.5l.94-2.06 2.06-.94-2.06-.94L8.5 2.5l-.94 2.06-2.06.94zm10 10l.94 2.06.94-2.06 2.06-.94-2.06-.94-.94-2.06-.94 2.06-2.06.94z\"/><path d=\"M17.41 7.96l-1.37-1.37c-.4-.4-.92-.59-1.43-.59-.52 0-1.04.2-1.43.59L10.3 9.45l-7.72 7.72c-.78.78-.78 2.05 0 2.83L4 21.41c.39.39.9.59 1.41.59.51 0 1.02-.2 1.41-.59l7.78-7.78 2.81-2.81c.8-.78.8-2.07 0-2.86zM5.41 20L4 18.59l7.72-7.72 1.47 1.35L5.41 20z\"/>\n",
       "  </svg>\n",
       "      </button>\n",
       "      \n",
       "  <style>\n",
       "    .colab-df-container {\n",
       "      display:flex;\n",
       "      flex-wrap:wrap;\n",
       "      gap: 12px;\n",
       "    }\n",
       "\n",
       "    .colab-df-convert {\n",
       "      background-color: #E8F0FE;\n",
       "      border: none;\n",
       "      border-radius: 50%;\n",
       "      cursor: pointer;\n",
       "      display: none;\n",
       "      fill: #1967D2;\n",
       "      height: 32px;\n",
       "      padding: 0 0 0 0;\n",
       "      width: 32px;\n",
       "    }\n",
       "\n",
       "    .colab-df-convert:hover {\n",
       "      background-color: #E2EBFA;\n",
       "      box-shadow: 0px 1px 2px rgba(60, 64, 67, 0.3), 0px 1px 3px 1px rgba(60, 64, 67, 0.15);\n",
       "      fill: #174EA6;\n",
       "    }\n",
       "\n",
       "    [theme=dark] .colab-df-convert {\n",
       "      background-color: #3B4455;\n",
       "      fill: #D2E3FC;\n",
       "    }\n",
       "\n",
       "    [theme=dark] .colab-df-convert:hover {\n",
       "      background-color: #434B5C;\n",
       "      box-shadow: 0px 1px 3px 1px rgba(0, 0, 0, 0.15);\n",
       "      filter: drop-shadow(0px 1px 2px rgba(0, 0, 0, 0.3));\n",
       "      fill: #FFFFFF;\n",
       "    }\n",
       "  </style>\n",
       "\n",
       "      <script>\n",
       "        const buttonEl =\n",
       "          document.querySelector('#df-5d54fdc1-157b-47c7-9c40-a3aefd4431a6 button.colab-df-convert');\n",
       "        buttonEl.style.display =\n",
       "          google.colab.kernel.accessAllowed ? 'block' : 'none';\n",
       "\n",
       "        async function convertToInteractive(key) {\n",
       "          const element = document.querySelector('#df-5d54fdc1-157b-47c7-9c40-a3aefd4431a6');\n",
       "          const dataTable =\n",
       "            await google.colab.kernel.invokeFunction('convertToInteractive',\n",
       "                                                     [key], {});\n",
       "          if (!dataTable) return;\n",
       "\n",
       "          const docLinkHtml = 'Like what you see? Visit the ' +\n",
       "            '<a target=\"_blank\" href=https://colab.research.google.com/notebooks/data_table.ipynb>data table notebook</a>'\n",
       "            + ' to learn more about interactive tables.';\n",
       "          element.innerHTML = '';\n",
       "          dataTable['output_type'] = 'display_data';\n",
       "          await google.colab.output.renderOutput(dataTable, element);\n",
       "          const docLink = document.createElement('div');\n",
       "          docLink.innerHTML = docLinkHtml;\n",
       "          element.appendChild(docLink);\n",
       "        }\n",
       "      </script>\n",
       "    </div>\n",
       "  </div>\n",
       "  "
      ],
      "text/plain": [
       "         Date       Open       High        Low      Close  Adj Close   Volume\n",
       "0  2016-09-02  41.470001  42.470001  41.459999  42.230000  42.230000  3019600\n",
       "1  2016-09-06  43.869999  44.439999  43.799999  44.240002  44.240002  3401400\n",
       "2  2016-09-07  44.200001  44.790001  44.180000  44.290001  44.290001  1547700\n",
       "3  2016-09-08  44.040001  44.150002  43.730000  43.759998  43.759998  1411600\n",
       "4  2016-09-09  43.049999  43.130001  42.169998  42.169998  42.169998  1935400"
      ]
     },
     "execution_count": 11,
     "metadata": {},
     "output_type": "execute_result"
    }
   ],
   "source": [
    "df.head()"
   ]
  },
  {
   "cell_type": "code",
   "execution_count": null,
   "metadata": {
    "colab": {
     "base_uri": "https://localhost:8080/",
     "height": 206
    },
    "id": "mP7b1jf9V5Vu",
    "outputId": "52c27498-6932-4599-df64-704ea3e3a270"
   },
   "outputs": [
    {
     "data": {
      "text/html": [
       "\n",
       "  <div id=\"df-b82636af-491a-4df3-92a9-2d0005af0551\">\n",
       "    <div class=\"colab-df-container\">\n",
       "      <div>\n",
       "<style scoped>\n",
       "    .dataframe tbody tr th:only-of-type {\n",
       "        vertical-align: middle;\n",
       "    }\n",
       "\n",
       "    .dataframe tbody tr th {\n",
       "        vertical-align: top;\n",
       "    }\n",
       "\n",
       "    .dataframe thead th {\n",
       "        text-align: right;\n",
       "    }\n",
       "</style>\n",
       "<table border=\"1\" class=\"dataframe\">\n",
       "  <thead>\n",
       "    <tr style=\"text-align: right;\">\n",
       "      <th></th>\n",
       "      <th>Date</th>\n",
       "      <th>Open</th>\n",
       "      <th>High</th>\n",
       "      <th>Low</th>\n",
       "      <th>Close</th>\n",
       "      <th>Adj Close</th>\n",
       "      <th>Volume</th>\n",
       "    </tr>\n",
       "  </thead>\n",
       "  <tbody>\n",
       "    <tr>\n",
       "      <th>1253</th>\n",
       "      <td>2021-08-26</td>\n",
       "      <td>19.059999</td>\n",
       "      <td>19.129999</td>\n",
       "      <td>18.860001</td>\n",
       "      <td>18.90</td>\n",
       "      <td>18.90</td>\n",
       "      <td>684600</td>\n",
       "    </tr>\n",
       "    <tr>\n",
       "      <th>1254</th>\n",
       "      <td>2021-08-27</td>\n",
       "      <td>19.180000</td>\n",
       "      <td>19.820000</td>\n",
       "      <td>19.180000</td>\n",
       "      <td>19.75</td>\n",
       "      <td>19.75</td>\n",
       "      <td>1310700</td>\n",
       "    </tr>\n",
       "    <tr>\n",
       "      <th>1255</th>\n",
       "      <td>2021-08-30</td>\n",
       "      <td>19.889999</td>\n",
       "      <td>20.049999</td>\n",
       "      <td>19.760000</td>\n",
       "      <td>19.76</td>\n",
       "      <td>19.76</td>\n",
       "      <td>622200</td>\n",
       "    </tr>\n",
       "    <tr>\n",
       "      <th>1256</th>\n",
       "      <td>2021-08-31</td>\n",
       "      <td>19.670000</td>\n",
       "      <td>19.700001</td>\n",
       "      <td>19.389999</td>\n",
       "      <td>19.68</td>\n",
       "      <td>19.68</td>\n",
       "      <td>1652200</td>\n",
       "    </tr>\n",
       "    <tr>\n",
       "      <th>1257</th>\n",
       "      <td>2021-09-01</td>\n",
       "      <td>20.090000</td>\n",
       "      <td>20.250000</td>\n",
       "      <td>20.040001</td>\n",
       "      <td>20.18</td>\n",
       "      <td>20.18</td>\n",
       "      <td>1739600</td>\n",
       "    </tr>\n",
       "  </tbody>\n",
       "</table>\n",
       "</div>\n",
       "      <button class=\"colab-df-convert\" onclick=\"convertToInteractive('df-b82636af-491a-4df3-92a9-2d0005af0551')\"\n",
       "              title=\"Convert this dataframe to an interactive table.\"\n",
       "              style=\"display:none;\">\n",
       "        \n",
       "  <svg xmlns=\"http://www.w3.org/2000/svg\" height=\"24px\"viewBox=\"0 0 24 24\"\n",
       "       width=\"24px\">\n",
       "    <path d=\"M0 0h24v24H0V0z\" fill=\"none\"/>\n",
       "    <path d=\"M18.56 5.44l.94 2.06.94-2.06 2.06-.94-2.06-.94-.94-2.06-.94 2.06-2.06.94zm-11 1L8.5 8.5l.94-2.06 2.06-.94-2.06-.94L8.5 2.5l-.94 2.06-2.06.94zm10 10l.94 2.06.94-2.06 2.06-.94-2.06-.94-.94-2.06-.94 2.06-2.06.94z\"/><path d=\"M17.41 7.96l-1.37-1.37c-.4-.4-.92-.59-1.43-.59-.52 0-1.04.2-1.43.59L10.3 9.45l-7.72 7.72c-.78.78-.78 2.05 0 2.83L4 21.41c.39.39.9.59 1.41.59.51 0 1.02-.2 1.41-.59l7.78-7.78 2.81-2.81c.8-.78.8-2.07 0-2.86zM5.41 20L4 18.59l7.72-7.72 1.47 1.35L5.41 20z\"/>\n",
       "  </svg>\n",
       "      </button>\n",
       "      \n",
       "  <style>\n",
       "    .colab-df-container {\n",
       "      display:flex;\n",
       "      flex-wrap:wrap;\n",
       "      gap: 12px;\n",
       "    }\n",
       "\n",
       "    .colab-df-convert {\n",
       "      background-color: #E8F0FE;\n",
       "      border: none;\n",
       "      border-radius: 50%;\n",
       "      cursor: pointer;\n",
       "      display: none;\n",
       "      fill: #1967D2;\n",
       "      height: 32px;\n",
       "      padding: 0 0 0 0;\n",
       "      width: 32px;\n",
       "    }\n",
       "\n",
       "    .colab-df-convert:hover {\n",
       "      background-color: #E2EBFA;\n",
       "      box-shadow: 0px 1px 2px rgba(60, 64, 67, 0.3), 0px 1px 3px 1px rgba(60, 64, 67, 0.15);\n",
       "      fill: #174EA6;\n",
       "    }\n",
       "\n",
       "    [theme=dark] .colab-df-convert {\n",
       "      background-color: #3B4455;\n",
       "      fill: #D2E3FC;\n",
       "    }\n",
       "\n",
       "    [theme=dark] .colab-df-convert:hover {\n",
       "      background-color: #434B5C;\n",
       "      box-shadow: 0px 1px 3px 1px rgba(0, 0, 0, 0.15);\n",
       "      filter: drop-shadow(0px 1px 2px rgba(0, 0, 0, 0.3));\n",
       "      fill: #FFFFFF;\n",
       "    }\n",
       "  </style>\n",
       "\n",
       "      <script>\n",
       "        const buttonEl =\n",
       "          document.querySelector('#df-b82636af-491a-4df3-92a9-2d0005af0551 button.colab-df-convert');\n",
       "        buttonEl.style.display =\n",
       "          google.colab.kernel.accessAllowed ? 'block' : 'none';\n",
       "\n",
       "        async function convertToInteractive(key) {\n",
       "          const element = document.querySelector('#df-b82636af-491a-4df3-92a9-2d0005af0551');\n",
       "          const dataTable =\n",
       "            await google.colab.kernel.invokeFunction('convertToInteractive',\n",
       "                                                     [key], {});\n",
       "          if (!dataTable) return;\n",
       "\n",
       "          const docLinkHtml = 'Like what you see? Visit the ' +\n",
       "            '<a target=\"_blank\" href=https://colab.research.google.com/notebooks/data_table.ipynb>data table notebook</a>'\n",
       "            + ' to learn more about interactive tables.';\n",
       "          element.innerHTML = '';\n",
       "          dataTable['output_type'] = 'display_data';\n",
       "          await google.colab.output.renderOutput(dataTable, element);\n",
       "          const docLink = document.createElement('div');\n",
       "          docLink.innerHTML = docLinkHtml;\n",
       "          element.appendChild(docLink);\n",
       "        }\n",
       "      </script>\n",
       "    </div>\n",
       "  </div>\n",
       "  "
      ],
      "text/plain": [
       "            Date       Open       High        Low  Close  Adj Close   Volume\n",
       "1253  2021-08-26  19.059999  19.129999  18.860001  18.90      18.90   684600\n",
       "1254  2021-08-27  19.180000  19.820000  19.180000  19.75      19.75  1310700\n",
       "1255  2021-08-30  19.889999  20.049999  19.760000  19.76      19.76   622200\n",
       "1256  2021-08-31  19.670000  19.700001  19.389999  19.68      19.68  1652200\n",
       "1257  2021-09-01  20.090000  20.250000  20.040001  20.18      20.18  1739600"
      ]
     },
     "execution_count": 12,
     "metadata": {},
     "output_type": "execute_result"
    }
   ],
   "source": [
    "df.tail()"
   ]
  },
  {
   "cell_type": "code",
   "execution_count": null,
   "metadata": {
    "id": "-7h3tU4rV5Y4"
   },
   "outputs": [],
   "source": [
    "df1=df.reset_index()['Close']\n",
    "ZF1=df.reset_index()['Date']"
   ]
  },
  {
   "cell_type": "code",
   "execution_count": null,
   "metadata": {
    "colab": {
     "base_uri": "https://localhost:8080/"
    },
    "id": "jtNJQRv3V5ci",
    "outputId": "a9b21f7e-72e5-4e70-92cb-f75beefc1c9e"
   },
   "outputs": [
    {
     "data": {
      "text/plain": [
       "0       42.230000\n",
       "1       44.240002\n",
       "2       44.290001\n",
       "3       43.759998\n",
       "4       42.169998\n",
       "          ...    \n",
       "1253    18.900000\n",
       "1254    19.750000\n",
       "1255    19.760000\n",
       "1256    19.680000\n",
       "1257    20.180000\n",
       "Name: Close, Length: 1258, dtype: float64"
      ]
     },
     "execution_count": 14,
     "metadata": {},
     "output_type": "execute_result"
    }
   ],
   "source": [
    "df1"
   ]
  },
  {
   "cell_type": "code",
   "execution_count": null,
   "metadata": {
    "colab": {
     "base_uri": "https://localhost:8080/",
     "height": 297
    },
    "id": "6qmtBUpRV5e_",
    "outputId": "1618a729-32b7-4143-95ef-e8ffc36464d9"
   },
   "outputs": [
    {
     "data": {
      "text/plain": [
       "Text(0, 0.5, 'close stock price')"
      ]
     },
     "execution_count": 15,
     "metadata": {},
     "output_type": "execute_result"
    },
    {
     "data": {
      "image/png": "[encoded data removed]",
      "text/plain": [
       "<Figure size 432x288 with 1 Axes>"
      ]
     },
     "metadata": {
      "needs_background": "light"
     },
     "output_type": "display_data"
    }
   ],
   "source": [
    "import matplotlib.pyplot as plt\n",
    "\n",
    "plt.plot(df1)\n",
    "\n",
    "plt.xlabel('day')\n",
    "plt.ylabel('close stock price')"
   ]
  },
  {
   "cell_type": "code",
   "execution_count": null,
   "metadata": {
    "id": "r-iT4iqgV5h9"
   },
   "outputs": [],
   "source": [
    "import numpy as np"
   ]
  },
  {
   "cell_type": "code",
   "execution_count": null,
   "metadata": {
    "colab": {
     "base_uri": "https://localhost:8080/"
    },
    "id": "y_Eh5MtkV5mJ",
    "outputId": "e4d90195-4570-4d0a-858a-c09239f4b24a"
   },
   "outputs": [
    {
     "data": {
      "text/plain": [
       "0       42.230000\n",
       "1       44.240002\n",
       "2       44.290001\n",
       "3       43.759998\n",
       "4       42.169998\n",
       "          ...    \n",
       "1253    18.900000\n",
       "1254    19.750000\n",
       "1255    19.760000\n",
       "1256    19.680000\n",
       "1257    20.180000\n",
       "Name: Close, Length: 1258, dtype: float64"
      ]
     },
     "execution_count": 17,
     "metadata": {},
     "output_type": "execute_result"
    }
   ],
   "source": [
    "df1"
   ]
  },
  {
   "cell_type": "code",
   "execution_count": null,
   "metadata": {
    "id": "DldfBeueV5oA"
   },
   "outputs": [],
   "source": [
    "from sklearn.preprocessing import MinMaxScaler\n",
    "scaler=MinMaxScaler(feature_range=(0,1))\n",
    "df1=scaler.fit_transform(np.array(df1).reshape(-1,1))"
   ]
  },
  {
   "cell_type": "code",
   "execution_count": null,
   "metadata": {
    "colab": {
     "base_uri": "https://localhost:8080/"
    },
    "id": "4a-woa9-V5qr",
    "outputId": "9923a1a6-cdfc-4fd2-d05d-42b22332b174"
   },
   "outputs": [
    {
     "data": {
      "text/plain": [
       "array([[0.94876894],\n",
       "       [0.99875655],\n",
       "       [1.        ],\n",
       "       ...,\n",
       "       [0.38995274],\n",
       "       [0.38796318],\n",
       "       [0.4003979 ]])"
      ]
     },
     "execution_count": 19,
     "metadata": {},
     "output_type": "execute_result"
    }
   ],
   "source": [
    "df1"
   ]
  },
  {
   "cell_type": "code",
   "execution_count": null,
   "metadata": {
    "id": "3VbfM_NhV5uv"
   },
   "outputs": [],
   "source": [
    "##splitting dataset into train and test split\n",
    "training_size=int(len(df1)*0.65)\n",
    "test_size=len(df1)-training_size\n",
    "train_data,test_data=df1[0:training_size,:],df1[training_size:len(df1),:1]"
   ]
  },
  {
   "cell_type": "code",
   "execution_count": null,
   "metadata": {
    "colab": {
     "base_uri": "https://localhost:8080/"
    },
    "id": "zt_KDRbUV5ww",
    "outputId": "cfdbe48f-35d5-4a01-c3b3-61aaeea389aa"
   },
   "outputs": [
    {
     "data": {
      "text/plain": [
       "(817, 441)"
      ]
     },
     "execution_count": 21,
     "metadata": {},
     "output_type": "execute_result"
    }
   ],
   "source": [
    "training_size,test_size"
   ]
  },
  {
   "cell_type": "code",
   "execution_count": null,
   "metadata": {
    "colab": {
     "base_uri": "https://localhost:8080/"
    },
    "id": "hLUVFShnV5zx",
    "outputId": "7cf9a59f-205c-41b1-ba47-1850d64442b3"
   },
   "outputs": [
    {
     "data": {
      "text/plain": [
       "array([[0.94876894],\n",
       "       [0.99875655],\n",
       "       [1.        ],\n",
       "       [0.98681912],\n",
       "       [0.94727672],\n",
       "       [0.95697588],\n",
       "       [0.93210644],\n",
       "       [0.93956727],\n",
       "       [0.94031331],\n",
       "       [0.92613775],\n",
       "       [0.93136031],\n",
       "       [0.91793089],\n",
       "       [0.9308629 ],\n",
       "       [0.93633422],\n",
       "       [0.91892559],\n",
       "       [0.89032579],\n",
       "       [0.89281271],\n",
       "       [0.90798307],\n",
       "       [0.87639888],\n",
       "       [0.89281271],\n",
       "       [0.91793089],\n",
       "       [0.91420042],\n",
       "       [0.94528722],\n",
       "       [0.93061425],\n",
       "       [0.94752547],\n",
       "       [0.94478983],\n",
       "       [0.93633422],\n",
       "       [0.92937081],\n",
       "       [0.90549617],\n",
       "       [0.92489428],\n",
       "       [0.91221082],\n",
       "       [0.91967173],\n",
       "       [0.92613775],\n",
       "       [0.91395178],\n",
       "       [0.90450137],\n",
       "       [0.91842818],\n",
       "       [0.90848048],\n",
       "       [0.86595377],\n",
       "       [0.86943547],\n",
       "       [0.88261624],\n",
       "       [0.87863713],\n",
       "       [0.86993286],\n",
       "       [0.84008953],\n",
       "       [0.83834867],\n",
       "       [0.83884606],\n",
       "       [0.87092756],\n",
       "       [0.90101965],\n",
       "       [0.88858493],\n",
       "       [0.87316583],\n",
       "       [0.82914691],\n",
       "       [0.76946031],\n",
       "       [0.75404131],\n",
       "       [0.74011438],\n",
       "       [0.74956479],\n",
       "       [0.74633174],\n",
       "       [0.7426013 ],\n",
       "       [0.74334743],\n",
       "       [0.73190742],\n",
       "       [0.72991791],\n",
       "       [0.71250931],\n",
       "       [0.72345181],\n",
       "       [0.72096492],\n",
       "       [0.70455109],\n",
       "       [0.69435462],\n",
       "       [0.69932853],\n",
       "       [0.70455109],\n",
       "       [0.72743102],\n",
       "       [0.7535439 ],\n",
       "       [0.7435961 ],\n",
       "       [0.76995773],\n",
       "       [0.7590151 ],\n",
       "       [0.7460831 ],\n",
       "       [0.7480726 ],\n",
       "       [0.75876646],\n",
       "       [0.7580204 ],\n",
       "       [0.75777165],\n",
       "       [0.76299421],\n",
       "       [0.75130565],\n",
       "       [0.74533694],\n",
       "       [0.7490674 ],\n",
       "       [0.73116138],\n",
       "       [0.7500622 ],\n",
       "       [0.75379255],\n",
       "       [0.78189503],\n",
       "       [0.79258891],\n",
       "       [0.80875397],\n",
       "       [0.80228797],\n",
       "       [0.8251678 ],\n",
       "       [0.84730169],\n",
       "       [0.85625459],\n",
       "       [0.84207904],\n",
       "       [0.84456603],\n",
       "       [0.84879379],\n",
       "       [0.85227548],\n",
       "       [0.86247195],\n",
       "       [0.85401634],\n",
       "       [0.86968411],\n",
       "       [0.89355874],\n",
       "       [0.89629441],\n",
       "       [0.89554835],\n",
       "       [0.89107185],\n",
       "       [0.86346675],\n",
       "       [0.86744586],\n",
       "       [0.88286499],\n",
       "       [0.87316583],\n",
       "       [0.86495897],\n",
       "       [0.86272069],\n",
       "       [0.83412082],\n",
       "       [0.84680428],\n",
       "       [0.84456603],\n",
       "       [0.84580948],\n",
       "       [0.82914691],\n",
       "       [0.72942052],\n",
       "       [0.70405368],\n",
       "       [0.7204675 ],\n",
       "       [0.73066397],\n",
       "       [0.75652821],\n",
       "       [0.75727427],\n",
       "       [0.75379255],\n",
       "       [0.75205171],\n",
       "       [0.74409349],\n",
       "       [0.73389702],\n",
       "       [0.74011438],\n",
       "       [0.7600099 ],\n",
       "       [0.76423776],\n",
       "       [0.76423776],\n",
       "       [0.76050732],\n",
       "       [0.75876646],\n",
       "       [0.76224818],\n",
       "       [0.77294203],\n",
       "       [0.79656802],\n",
       "       [0.79084805],\n",
       "       [0.80527228],\n",
       "       [0.81124099],\n",
       "       [0.80378018],\n",
       "       [0.80925138],\n",
       "       [0.78786365],\n",
       "       [0.78264109],\n",
       "       [0.7866202 ],\n",
       "       [0.78736636],\n",
       "       [0.79507581],\n",
       "       [0.79830886],\n",
       "       [0.78811239],\n",
       "       [0.78885845],\n",
       "       [0.78512811],\n",
       "       [0.77915939],\n",
       "       [0.77891075],\n",
       "       [0.78935586],\n",
       "       [0.79532455],\n",
       "       [0.79607061],\n",
       "       [0.80850533],\n",
       "       [0.7910967 ],\n",
       "       [0.77965678],\n",
       "       [0.76199951],\n",
       "       [0.76647603],\n",
       "       [0.73961699],\n",
       "       [0.74409349],\n",
       "       [0.74881866],\n",
       "       [0.73713007],\n",
       "       [0.74856999],\n",
       "       [0.76050732],\n",
       "       [0.77642373],\n",
       "       [0.78239245],\n",
       "       [0.7856254 ],\n",
       "       [0.77319068],\n",
       "       [0.76423776],\n",
       "       [0.76150212],\n",
       "       [0.74210389],\n",
       "       [0.71250931],\n",
       "       [0.71350409],\n",
       "       [0.71350409],\n",
       "       [0.73141013],\n",
       "       [0.73041533],\n",
       "       [0.73812478],\n",
       "       [0.7416066 ],\n",
       "       [0.74856999],\n",
       "       [0.74931605],\n",
       "       [0.74110918],\n",
       "       [0.75528476],\n",
       "       [0.76647603],\n",
       "       [0.81397663],\n",
       "       [0.78910719],\n",
       "       [0.80775927],\n",
       "       [0.82044266],\n",
       "       [0.81497133],\n",
       "       [0.81447404],\n",
       "       [0.8216861 ],\n",
       "       [0.82641134],\n",
       "       [0.8187018 ],\n",
       "       [0.7901019 ],\n",
       "       [0.78388454],\n",
       "       [0.7866202 ],\n",
       "       [0.7821437 ],\n",
       "       [0.76921157],\n",
       "       [0.76946031],\n",
       "       [0.77194723],\n",
       "       [0.76423776],\n",
       "       [0.76597862],\n",
       "       [0.77319068],\n",
       "       [0.78438195],\n",
       "       [0.76946031],\n",
       "       [0.76796812],\n",
       "       [0.74409349],\n",
       "       [0.74757519],\n",
       "       [0.74334743],\n",
       "       [0.74732654],\n",
       "       [0.72743102],\n",
       "       [0.7194727 ],\n",
       "       [0.72544141],\n",
       "       [0.72867447],\n",
       "       [0.72320317],\n",
       "       [0.73190742],\n",
       "       [0.75503602],\n",
       "       [0.76622726],\n",
       "       [0.78264109],\n",
       "       [0.77791595],\n",
       "       [0.77791595],\n",
       "       [0.77368809],\n",
       "       [0.76896293],\n",
       "       [0.79134547],\n",
       "       [0.77990545],\n",
       "       [0.78612281],\n",
       "       [0.78413331],\n",
       "       [0.77542893],\n",
       "       [0.78264109],\n",
       "       [0.75627956],\n",
       "       [0.7590151 ],\n",
       "       [0.75503602],\n",
       "       [0.76572987],\n",
       "       [0.76249692],\n",
       "       [0.75553341],\n",
       "       [0.76448643],\n",
       "       [0.74309869],\n",
       "       [0.73240483],\n",
       "       [0.6819199 ],\n",
       "       [0.62944537],\n",
       "       [0.62969409],\n",
       "       [0.63839839],\n",
       "       [0.63118623],\n",
       "       [0.6458592 ],\n",
       "       [0.63068889],\n",
       "       [0.62770454],\n",
       "       [0.62049242],\n",
       "       [0.62670978],\n",
       "       [0.64088534],\n",
       "       [0.64287489],\n",
       "       [0.64436706],\n",
       "       [0.64013925],\n",
       "       [0.63665753],\n",
       "       [0.64063664],\n",
       "       [0.64113406],\n",
       "       [0.65804527],\n",
       "       [0.64834617],\n",
       "       [0.64983831],\n",
       "       [0.63939319],\n",
       "       [0.63566273],\n",
       "       [0.6381497 ],\n",
       "       [0.65928872],\n",
       "       [0.65655308],\n",
       "       [0.67296688],\n",
       "       [0.67644865],\n",
       "       [0.68987812],\n",
       "       [0.69982592],\n",
       "       [0.69037551],\n",
       "       [0.68888337],\n",
       "       [0.68813726],\n",
       "       [0.67172344],\n",
       "       [0.67744341],\n",
       "       [0.66152697],\n",
       "       [0.65779658],\n",
       "       [0.67619993],\n",
       "       [0.68739115],\n",
       "       [0.69385723],\n",
       "       [0.69957718],\n",
       "       [0.70106937],\n",
       "       [0.70032333],\n",
       "       [0.70106937],\n",
       "       [0.70106937],\n",
       "       [0.68888337],\n",
       "       [0.69709028],\n",
       "       [0.7140015 ],\n",
       "       [0.72618747],\n",
       "       [0.71474756],\n",
       "       [0.71574236],\n",
       "       [0.71798061],\n",
       "       [0.7130067 ],\n",
       "       [0.69833373],\n",
       "       [0.69907979],\n",
       "       [0.69733893],\n",
       "       [0.70131804],\n",
       "       [0.71325534],\n",
       "       [0.72743102],\n",
       "       [0.71325534],\n",
       "       [0.71897541],\n",
       "       [0.72444661],\n",
       "       [0.73961699],\n",
       "       [0.76896293],\n",
       "       [0.72966917],\n",
       "       [0.73638394],\n",
       "       [0.72071625],\n",
       "       [0.70231284],\n",
       "       [0.69410593],\n",
       "       [0.68490426],\n",
       "       [0.67968165],\n",
       "       [0.6896294 ],\n",
       "       [0.70629195],\n",
       "       [0.70330764],\n",
       "       [0.71226064],\n",
       "       [0.71648839],\n",
       "       [0.71275805],\n",
       "       [0.69907979],\n",
       "       [0.69907979],\n",
       "       [0.68341204],\n",
       "       [0.6742104 ],\n",
       "       [0.66376522],\n",
       "       [0.67271819],\n",
       "       [0.67222085],\n",
       "       [0.65953741],\n",
       "       [0.67172344],\n",
       "       [0.68390946],\n",
       "       [0.69037551],\n",
       "       [0.6821686 ],\n",
       "       [0.67545385],\n",
       "       [0.6786869 ],\n",
       "       [0.67843821],\n",
       "       [0.6854016 ],\n",
       "       [0.70803279],\n",
       "       [0.71250931],\n",
       "       [0.7149963 ],\n",
       "       [0.7149963 ],\n",
       "       [0.71872667],\n",
       "       [0.71002239],\n",
       "       [0.70231284],\n",
       "       [0.72096492],\n",
       "       [0.75205171],\n",
       "       [0.74235263],\n",
       "       [0.73638394],\n",
       "       [0.74086044],\n",
       "       [0.74533694],\n",
       "       [0.7500622 ],\n",
       "       [0.73787613],\n",
       "       [0.75130565],\n",
       "       [0.75205171],\n",
       "       [0.72195972],\n",
       "       [0.72071625],\n",
       "       [0.709525  ],\n",
       "       [0.72171095],\n",
       "       [0.71623975],\n",
       "       [0.70281023],\n",
       "       [0.68341204],\n",
       "       [0.67047999],\n",
       "       [0.6786869 ],\n",
       "       [0.67470774],\n",
       "       [0.67097733],\n",
       "       [0.66849038],\n",
       "       [0.66625218],\n",
       "       [0.63839839],\n",
       "       [0.59885599],\n",
       "       [0.62621237],\n",
       "       [0.62248198],\n",
       "       [0.60233769],\n",
       "       [0.60532204],\n",
       "       [0.6115394 ],\n",
       "       [0.6105446 ],\n",
       "       [0.62670978],\n",
       "       [0.62571498],\n",
       "       [0.6150211 ],\n",
       "       [0.61029596],\n",
       "       [0.59413077],\n",
       "       [0.58741608],\n",
       "       [0.59562299],\n",
       "       [0.61924893],\n",
       "       [0.60432724],\n",
       "       [0.59537427],\n",
       "       [0.59437949],\n",
       "       [0.59413077],\n",
       "       [0.57697091],\n",
       "       [0.57249439],\n",
       "       [0.56727178],\n",
       "       [0.56503353],\n",
       "       [0.5645362 ],\n",
       "       [0.57448394],\n",
       "       [0.57871175],\n",
       "       [0.57597611],\n",
       "       [0.57075355],\n",
       "       [0.55608059],\n",
       "       [0.53941804],\n",
       "       [0.53817455],\n",
       "       [0.5401641 ],\n",
       "       [0.53270329],\n",
       "       [0.51778163],\n",
       "       [0.53021635],\n",
       "       [0.5359363 ],\n",
       "       [0.53071374],\n",
       "       [0.53767721],\n",
       "       [0.5369311 ],\n",
       "       [0.55135537],\n",
       "       [0.57995522],\n",
       "       [0.58542652],\n",
       "       [0.57846305],\n",
       "       [0.57597611],\n",
       "       [0.57498136],\n",
       "       [0.57473266],\n",
       "       [0.57423525],\n",
       "       [0.56304398],\n",
       "       [0.54886843],\n",
       "       [0.53742851],\n",
       "       [0.53444415],\n",
       "       [0.52350158],\n",
       "       [0.51653816],\n",
       "       [0.51653816],\n",
       "       [0.51131556],\n",
       "       [0.50435216],\n",
       "       [0.51206166],\n",
       "       [0.52076597],\n",
       "       [0.52325293],\n",
       "       [0.53021635],\n",
       "       [0.52200944],\n",
       "       [0.51355383],\n",
       "       [0.52176072],\n",
       "       [0.52001988],\n",
       "       [0.51305642],\n",
       "       [0.52275552],\n",
       "       [0.51081822],\n",
       "       [0.50285995],\n",
       "       [0.48943048],\n",
       "       [0.46282021],\n",
       "       [0.46829146],\n",
       "       [0.4710271 ],\n",
       "       [0.45361849],\n",
       "       [0.44640638],\n",
       "       [0.46829146],\n",
       "       [0.45535933],\n",
       "       [0.42302909],\n",
       "       [0.42850034],\n",
       "       [0.42526734],\n",
       "       [0.42302909],\n",
       "       [0.41780648],\n",
       "       [0.431236  ],\n",
       "       [0.42725689],\n",
       "       [0.42949514],\n",
       "       [0.44963938],\n",
       "       [0.45386719],\n",
       "       [0.4620741 ],\n",
       "       [0.46480974],\n",
       "       [0.46530715],\n",
       "       [0.46058193],\n",
       "       [0.45361849],\n",
       "       [0.44939069],\n",
       "       [0.46182541],\n",
       "       [0.44864463],\n",
       "       [0.45486199],\n",
       "       [0.45038549],\n",
       "       [0.45187763],\n",
       "       [0.41730914],\n",
       "       [0.40189007],\n",
       "       [0.38597363],\n",
       "       [0.37726933],\n",
       "       [0.38473013],\n",
       "       [0.39094749],\n",
       "       [0.38746579],\n",
       "       [0.37925888],\n",
       "       [0.39318574],\n",
       "       [0.39791096],\n",
       "       [0.40014921],\n",
       "       [0.38249188],\n",
       "       [0.38348669],\n",
       "       [0.37627452],\n",
       "       [0.35861725],\n",
       "       [0.36781897],\n",
       "       [0.35836856],\n",
       "       [0.35613031],\n",
       "       [0.35588159],\n",
       "       [0.3608555 ],\n",
       "       [0.36558072],\n",
       "       [0.37527977],\n",
       "       [0.36458591],\n",
       "       [0.37726933],\n",
       "       [0.38075102],\n",
       "       [0.35115644],\n",
       "       [0.37204677],\n",
       "       [0.37105197],\n",
       "       [0.36732155],\n",
       "       [0.36110419],\n",
       "       [0.35289728],\n",
       "       [0.35836856],\n",
       "       [0.35687639],\n",
       "       [0.34294953],\n",
       "       [0.33175826],\n",
       "       [0.33200696],\n",
       "       [0.3257896 ],\n",
       "       [0.33996517],\n",
       "       [0.35538425],\n",
       "       [0.37353891],\n",
       "       [0.37503108],\n",
       "       [0.36980852],\n",
       "       [0.35065903],\n",
       "       [0.35488684],\n",
       "       [0.36284505],\n",
       "       [0.36060681],\n",
       "       [0.35861725],\n",
       "       [0.34742598],\n",
       "       [0.3598607 ],\n",
       "       [0.35364334],\n",
       "       [0.3566277 ],\n",
       "       [0.3573738 ],\n",
       "       [0.36707286],\n",
       "       [0.365332  ],\n",
       "       [0.35438945],\n",
       "       [0.35414075],\n",
       "       [0.35239989],\n",
       "       [0.34717734],\n",
       "       [0.33797562],\n",
       "       [0.33399651],\n",
       "       [0.34170603],\n",
       "       [0.34195473],\n",
       "       [0.32479479],\n",
       "       [0.30987318],\n",
       "       [0.30813227],\n",
       "       [0.30067147],\n",
       "       [0.2859985 ],\n",
       "       [0.28052723],\n",
       "       [0.28574981],\n",
       "       [0.28450633],\n",
       "       [0.28102461],\n",
       "       [0.26983337],\n",
       "       [0.2596369 ],\n",
       "       [0.25565779],\n",
       "       [0.21636408],\n",
       "       [0.20144242],\n",
       "       [0.19895548],\n",
       "       [0.20616761],\n",
       "       [0.20865456],\n",
       "       [0.21313106],\n",
       "       [0.19845809],\n",
       "       [0.19298681],\n",
       "       [0.19423029],\n",
       "       [0.18726684],\n",
       "       [0.1937329 ],\n",
       "       [0.18179557],\n",
       "       [0.18875901],\n",
       "       [0.18676946],\n",
       "       [0.19497637],\n",
       "       [0.19920417],\n",
       "       [0.20218851],\n",
       "       [0.21313106],\n",
       "       [0.21586669],\n",
       "       [0.2200945 ],\n",
       "       [0.22208405],\n",
       "       [0.22631186],\n",
       "       [0.22307883],\n",
       "       [0.224571  ],\n",
       "       [0.19995026],\n",
       "       [0.20144242],\n",
       "       [0.20343198],\n",
       "       [0.2111415 ],\n",
       "       [0.21089281],\n",
       "       [0.21661278],\n",
       "       [0.21238497],\n",
       "       [0.22233275],\n",
       "       [0.21909972],\n",
       "       [0.21810494],\n",
       "       [0.21337975],\n",
       "       [0.20964934],\n",
       "       [0.20865456],\n",
       "       [0.20193981],\n",
       "       [0.2069137 ],\n",
       "       [0.19920417],\n",
       "       [0.18353643],\n",
       "       [0.17856254],\n",
       "       [0.16388958],\n",
       "       [0.1671226 ],\n",
       "       [0.1847799 ],\n",
       "       [0.18652076],\n",
       "       [0.18527729],\n",
       "       [0.19696592],\n",
       "       [0.20343198],\n",
       "       [0.19497637],\n",
       "       [0.20765978],\n",
       "       [0.20616761],\n",
       "       [0.19870678],\n",
       "       [0.20467545],\n",
       "       [0.19895548],\n",
       "       [0.20467545],\n",
       "       [0.20144242],\n",
       "       [0.19845809],\n",
       "       [0.18975379],\n",
       "       [0.21039542],\n",
       "       [0.215618  ],\n",
       "       [0.22084058],\n",
       "       [0.22656055],\n",
       "       [0.23103705],\n",
       "       [0.21810494],\n",
       "       [0.215618  ],\n",
       "       [0.22158666],\n",
       "       [0.22357622],\n",
       "       [0.22133797],\n",
       "       [0.22084058],\n",
       "       [0.20890325],\n",
       "       [0.21288236],\n",
       "       [0.20343198],\n",
       "       [0.20616761],\n",
       "       [0.20218851],\n",
       "       [0.20517284],\n",
       "       [0.2113902 ],\n",
       "       [0.22357622],\n",
       "       [0.21934842],\n",
       "       [0.21238497],\n",
       "       [0.20492414],\n",
       "       [0.21163889],\n",
       "       [0.18204426],\n",
       "       [0.15991047],\n",
       "       [0.16239741],\n",
       "       [0.16786869],\n",
       "       [0.17209649],\n",
       "       [0.17781646],\n",
       "       [0.17856254],\n",
       "       [0.18627207],\n",
       "       [0.19124595],\n",
       "       [0.19199204],\n",
       "       [0.206665  ],\n",
       "       [0.20716239],\n",
       "       [0.21810494],\n",
       "       [0.20616761],\n",
       "       [0.20940064],\n",
       "       [0.22283014],\n",
       "       [0.21959711],\n",
       "       [0.23949266],\n",
       "       [0.23601094],\n",
       "       [0.22929619],\n",
       "       [0.21934842],\n",
       "       [0.22407361],\n",
       "       [0.22556577],\n",
       "       [0.2243223 ],\n",
       "       [0.21909972],\n",
       "       [0.21959711],\n",
       "       [0.22656055],\n",
       "       [0.22730663],\n",
       "       [0.22332752],\n",
       "       [0.224571  ],\n",
       "       [0.20741109],\n",
       "       [0.20392937],\n",
       "       [0.21039542],\n",
       "       [0.20119373],\n",
       "       [0.20392937],\n",
       "       [0.21089281],\n",
       "       [0.24297438],\n",
       "       [0.25690126],\n",
       "       [0.26361601],\n",
       "       [0.27157423],\n",
       "       [0.27033076],\n",
       "       [0.25913951],\n",
       "       [0.26560556],\n",
       "       [0.290475  ],\n",
       "       [0.2862472 ],\n",
       "       [0.2949515 ],\n",
       "       [0.30664013],\n",
       "       [0.30489927],\n",
       "       [0.3136036 ],\n",
       "       [0.32380004],\n",
       "       [0.31484705],\n",
       "       [0.30838099],\n",
       "       [0.29246455],\n",
       "       [0.28823675],\n",
       "       [0.28823675],\n",
       "       [0.28649589],\n",
       "       [0.281522  ],\n",
       "       [0.27505595],\n",
       "       [0.26908729],\n",
       "       [0.27480726],\n",
       "       [0.26038298],\n",
       "       [0.23625963],\n",
       "       [0.23203183],\n",
       "       [0.23078836],\n",
       "       [0.23476746],\n",
       "       [0.21536931],\n",
       "       [0.224571  ],\n",
       "       [0.21238497],\n",
       "       [0.21263367],\n",
       "       [0.2069137 ],\n",
       "       [0.2243223 ],\n",
       "       [0.21711017],\n",
       "       [0.2111415 ],\n",
       "       [0.21039542],\n",
       "       [0.22059189],\n",
       "       [0.21437453],\n",
       "       [0.21387714],\n",
       "       [0.21462322],\n",
       "       [0.20964934],\n",
       "       [0.21387714],\n",
       "       [0.21387714],\n",
       "       [0.20940064],\n",
       "       [0.20392937],\n",
       "       [0.20417806],\n",
       "       [0.19248943],\n",
       "       [0.20567023],\n",
       "       [0.1982094 ],\n",
       "       [0.19572245],\n",
       "       [0.18676946],\n",
       "       [0.18129818],\n",
       "       [0.18950509],\n",
       "       [0.17731907],\n",
       "       [0.18428251],\n",
       "       [0.18279035],\n",
       "       [0.18179557],\n",
       "       [0.18303904],\n",
       "       [0.18751554],\n",
       "       [0.19497637],\n",
       "       [0.1890077 ],\n",
       "       [0.19895548],\n",
       "       [0.19149465],\n",
       "       [0.19124595],\n",
       "       [0.18801293],\n",
       "       [0.17756776],\n",
       "       [0.17831385],\n",
       "       [0.17557821],\n",
       "       [0.1805521 ],\n",
       "       [0.18627207],\n",
       "       [0.18851032],\n",
       "       [0.20144242],\n",
       "       [0.1982094 ],\n",
       "       [0.1890077 ],\n",
       "       [0.17905993],\n",
       "       [0.17731907],\n",
       "       [0.17856254],\n",
       "       [0.17234518],\n",
       "       [0.16214872],\n",
       "       [0.16140263],\n",
       "       [0.14573489],\n",
       "       [0.13951753],\n",
       "       [0.14001492],\n",
       "       [0.12832628],\n",
       "       [0.12733151],\n",
       "       [0.11464809],\n",
       "       [0.11116637],\n",
       "       [0.1056951 ],\n",
       "       [0.11614026],\n",
       "       [0.11141507],\n",
       "       [0.10917682],\n",
       "       [0.11315593],\n",
       "       [0.10494902],\n",
       "       [0.10445163],\n",
       "       [0.11141507],\n",
       "       [0.10693857],\n",
       "       [0.10917682],\n",
       "       [0.09375777],\n",
       "       [0.08778911],\n",
       "       [0.09052474],\n",
       "       [0.09375777],\n",
       "       [0.10818204],\n",
       "       [0.10345685],\n",
       "       [0.09898035],\n",
       "       [0.10295946],\n",
       "       [0.09350908],\n",
       "       [0.09027605],\n",
       "       [0.10693857],\n",
       "       [0.11042029],\n",
       "       [0.11713504],\n",
       "       [0.12061676],\n",
       "       [0.13454364],\n",
       "       [0.12434717],\n",
       "       [0.12633673],\n",
       "       [0.12136284],\n",
       "       [0.1143994 ],\n",
       "       [0.11365332],\n",
       "       [0.11713504],\n",
       "       [0.13578711],\n",
       "       [0.1275802 ],\n",
       "       [0.12285501],\n",
       "       [0.11688634],\n",
       "       [0.11365332],\n",
       "       [0.10892812],\n",
       "       [0.10718726],\n",
       "       [0.10072121],\n",
       "       [0.09947774],\n",
       "       [0.11265854],\n",
       "       [0.10942551],\n",
       "       [0.10470032],\n",
       "       [0.10047252],\n",
       "       [0.10743596],\n",
       "       [0.10619249],\n",
       "       [0.11589157],\n",
       "       [0.11987068],\n",
       "       [0.1233524 ],\n",
       "       [0.12086545],\n",
       "       [0.13802536],\n",
       "       [0.13752797],\n",
       "       [0.13504103],\n",
       "       [0.12907237],\n",
       "       [0.13056453],\n",
       "       [0.12907237],\n",
       "       [0.15941308],\n",
       "       [0.16239741],\n",
       "       [0.20218851],\n",
       "       [0.19572245],\n",
       "       [0.19895548],\n",
       "       [0.20641631],\n",
       "       [0.20542153],\n",
       "       [0.20119373],\n",
       "       [0.20144242],\n",
       "       [0.19995026],\n",
       "       [0.1934842 ],\n",
       "       [0.19845809],\n",
       "       [0.19746331],\n",
       "       [0.19000248],\n",
       "       [0.18527729],\n",
       "       [0.1934842 ],\n",
       "       [0.19273812],\n",
       "       [0.18726684],\n",
       "       [0.1850286 ],\n",
       "       [0.18154687],\n",
       "       [0.17632429],\n",
       "       [0.18552598],\n",
       "       [0.17930863],\n",
       "       [0.18627207],\n",
       "       [0.17756776],\n",
       "       [0.17756776]])"
      ]
     },
     "execution_count": 22,
     "metadata": {},
     "output_type": "execute_result"
    }
   ],
   "source": [
    "train_data"
   ]
  },
  {
   "cell_type": "code",
   "execution_count": null,
   "metadata": {
    "id": "PdlMZE3QV54G"
   },
   "outputs": [],
   "source": [
    "import numpy\n",
    "# convert an array of values into a dataset matrix\n",
    "def create_dataset(dataset, time_step=1):\n",
    "\tdataX, dataY = [], []\n",
    "\tfor i in range(len(dataset)-time_step-1):\n",
    "\t\ta = dataset[i:(i+time_step), 0]   ###i=0, 0,1,2,3-----99   100 \n",
    "\t\tdataX.append(a)\n",
    "\t\tdataY.append(dataset[i + time_step, 0])\n",
    "\treturn numpy.array(dataX), numpy.array(dataY)"
   ]
  },
  {
   "cell_type": "code",
   "execution_count": null,
   "metadata": {
    "id": "0POIZsi5V57k"
   },
   "outputs": [],
   "source": [
    "# reshape into X=t,t+1,t+2,t+3 and Y=t+4\n",
    "time_step = 100\n",
    "X_train, y_train = create_dataset(train_data, time_step)\n",
    "X_test, ytest = create_dataset(test_data, time_step)"
   ]
  },
  {
   "cell_type": "code",
   "execution_count": null,
   "metadata": {
    "colab": {
     "base_uri": "https://localhost:8080/"
    },
    "id": "9PSaWvJiV59l",
    "outputId": "d3faf22b-e6d2-4535-b617-7764e0d1f084"
   },
   "outputs": [
    {
     "name": "stdout",
     "output_type": "stream",
     "text": [
      "(716, 100)\n",
      "(716,)\n"
     ]
    },
    {
     "data": {
      "text/plain": [
       "(None, None)"
      ]
     },
     "execution_count": 25,
     "metadata": {},
     "output_type": "execute_result"
    }
   ],
   "source": [
    "print(X_train.shape), print(y_train.shape)"
   ]
  },
  {
   "cell_type": "code",
   "execution_count": null,
   "metadata": {
    "colab": {
     "base_uri": "https://localhost:8080/"
    },
    "id": "Qp8sW6hoV5_c",
    "outputId": "02aad36d-22da-439a-e4dd-cbd6e40c6a76"
   },
   "outputs": [
    {
     "name": "stdout",
     "output_type": "stream",
     "text": [
      "(340, 100)\n",
      "(340,)\n"
     ]
    },
    {
     "data": {
      "text/plain": [
       "(None, None)"
      ]
     },
     "execution_count": 26,
     "metadata": {},
     "output_type": "execute_result"
    }
   ],
   "source": [
    "print(X_test.shape), print(ytest.shape)"
   ]
  },
  {
   "cell_type": "code",
   "execution_count": null,
   "metadata": {
    "id": "_FSoBX3GV6B1"
   },
   "outputs": [],
   "source": [
    "# reshape input to be [samples, time steps, features] which is required for LSTM\n",
    "X_train =X_train.reshape(X_train.shape[0],X_train.shape[1] , 1)\n",
    "X_test = X_test.reshape(X_test.shape[0],X_test.shape[1] , 1)"
   ]
  },
  {
   "cell_type": "code",
   "execution_count": null,
   "metadata": {
    "id": "O8sFBl0UV6HE"
   },
   "outputs": [],
   "source": [
    "### Create the Stacked LSTM model\n",
    "from tensorflow.keras.models import Sequential\n",
    "from tensorflow.keras.layers import Dense\n",
    "from tensorflow.keras.layers import LSTM"
   ]
  },
  {
   "cell_type": "code",
   "execution_count": null,
   "metadata": {
    "id": "NdI0EmhcV6JY"
   },
   "outputs": [],
   "source": [
    "model=Sequential()\n",
    "model.add(LSTM(50,return_sequences=True,input_shape=(100,1)))\n",
    "model.add(LSTM(50,return_sequences=True))\n",
    "model.add(LSTM(50))\n",
    "model.add(Dense(1))\n",
    "model.compile(loss='mean_squared_error',optimizer='adam')"
   ]
  },
  {
   "cell_type": "code",
   "execution_count": null,
   "metadata": {
    "colab": {
     "base_uri": "https://localhost:8080/"
    },
    "id": "cYP-FR_UV6LO",
    "outputId": "bd7ad8ea-e6c5-4579-a175-5ee84630a74f"
   },
   "outputs": [
    {
     "name": "stdout",
     "output_type": "stream",
     "text": [
      "Model: \"sequential\"\n",
      "_________________________________________________________________\n",
      " Layer (type)                Output Shape              Param #   \n",
      "=================================================================\n",
      " lstm (LSTM)                 (None, 100, 50)           10400     \n",
      "                                                                 \n",
      " lstm_1 (LSTM)               (None, 100, 50)           20200     \n",
      "                                                                 \n",
      " lstm_2 (LSTM)               (None, 50)                20200     \n",
      "                                                                 \n",
      " dense (Dense)               (None, 1)                 51        \n",
      "                                                                 \n",
      "=================================================================\n",
      "Total params: 50,851\n",
      "Trainable params: 50,851\n",
      "Non-trainable params: 0\n",
      "_________________________________________________________________\n"
     ]
    }
   ],
   "source": [
    "model.summary()"
   ]
  },
  {
   "cell_type": "code",
   "execution_count": null,
   "metadata": {
    "colab": {
     "base_uri": "https://localhost:8080/"
    },
    "id": "ZRFCMD0YV6Nu",
    "outputId": "cc54a435-a421-469c-85d2-f068a12cde41"
   },
   "outputs": [
    {
     "name": "stdout",
     "output_type": "stream",
     "text": [
      "Model: \"sequential\"\n",
      "_________________________________________________________________\n",
      " Layer (type)                Output Shape              Param #   \n",
      "=================================================================\n",
      " lstm (LSTM)                 (None, 100, 50)           10400     \n",
      "                                                                 \n",
      " lstm_1 (LSTM)               (None, 100, 50)           20200     \n",
      "                                                                 \n",
      " lstm_2 (LSTM)               (None, 50)                20200     \n",
      "                                                                 \n",
      " dense (Dense)               (None, 1)                 51        \n",
      "                                                                 \n",
      "=================================================================\n",
      "Total params: 50,851\n",
      "Trainable params: 50,851\n",
      "Non-trainable params: 0\n",
      "_________________________________________________________________\n"
     ]
    }
   ],
   "source": [
    "model.summary()"
   ]
  },
  {
   "cell_type": "code",
   "execution_count": null,
   "metadata": {
    "colab": {
     "base_uri": "https://localhost:8080/"
    },
    "id": "WOIJaHhxXeEm",
    "outputId": "cbaba8ba-1128-4f30-9a47-0496f51bd396"
   },
   "outputs": [
    {
     "name": "stdout",
     "output_type": "stream",
     "text": [
      "Epoch 1/100\n",
      "12/12 [==============================] - 10s 336ms/step - loss: 0.0725 - val_loss: 0.0034\n",
      "Epoch 2/100\n",
      "12/12 [==============================] - 2s 205ms/step - loss: 0.0120 - val_loss: 0.0064\n",
      "Epoch 3/100\n",
      "12/12 [==============================] - 3s 209ms/step - loss: 0.0041 - val_loss: 0.0014\n",
      "Epoch 4/100\n",
      "12/12 [==============================] - 3s 218ms/step - loss: 0.0018 - val_loss: 0.0023\n",
      "Epoch 5/100\n",
      "12/12 [==============================] - 2s 203ms/step - loss: 0.0015 - val_loss: 0.0024\n",
      "Epoch 6/100\n",
      "12/12 [==============================] - 2s 198ms/step - loss: 0.0014 - val_loss: 0.0021\n",
      "Epoch 7/100\n",
      "12/12 [==============================] - 2s 205ms/step - loss: 0.0014 - val_loss: 0.0017\n",
      "Epoch 8/100\n",
      "12/12 [==============================] - 2s 203ms/step - loss: 0.0013 - val_loss: 0.0016\n",
      "Epoch 9/100\n",
      "12/12 [==============================] - 3s 254ms/step - loss: 0.0013 - val_loss: 0.0018\n",
      "Epoch 10/100\n",
      "12/12 [==============================] - 3s 216ms/step - loss: 0.0013 - val_loss: 0.0020\n",
      "Epoch 11/100\n",
      "12/12 [==============================] - 3s 214ms/step - loss: 0.0014 - val_loss: 0.0018\n",
      "Epoch 12/100\n",
      "12/12 [==============================] - 3s 258ms/step - loss: 0.0013 - val_loss: 0.0015\n",
      "Epoch 13/100\n",
      "12/12 [==============================] - 3s 241ms/step - loss: 0.0012 - val_loss: 0.0015\n",
      "Epoch 14/100\n",
      "12/12 [==============================] - 2s 202ms/step - loss: 0.0012 - val_loss: 0.0014\n",
      "Epoch 15/100\n",
      "12/12 [==============================] - 3s 211ms/step - loss: 0.0012 - val_loss: 0.0014\n",
      "Epoch 16/100\n",
      "12/12 [==============================] - 2s 208ms/step - loss: 0.0012 - val_loss: 0.0015\n",
      "Epoch 17/100\n",
      "12/12 [==============================] - 2s 203ms/step - loss: 0.0012 - val_loss: 0.0014\n",
      "Epoch 18/100\n",
      "12/12 [==============================] - 2s 209ms/step - loss: 0.0012 - val_loss: 0.0015\n",
      "Epoch 19/100\n",
      "12/12 [==============================] - 2s 206ms/step - loss: 0.0012 - val_loss: 0.0015\n",
      "Epoch 20/100\n",
      "12/12 [==============================] - 2s 206ms/step - loss: 0.0011 - val_loss: 0.0014\n",
      "Epoch 21/100\n",
      "12/12 [==============================] - 2s 201ms/step - loss: 0.0011 - val_loss: 0.0017\n",
      "Epoch 22/100\n",
      "12/12 [==============================] - 2s 202ms/step - loss: 0.0012 - val_loss: 0.0012\n",
      "Epoch 23/100\n",
      "12/12 [==============================] - 3s 211ms/step - loss: 0.0013 - val_loss: 0.0015\n",
      "Epoch 24/100\n",
      "12/12 [==============================] - 2s 207ms/step - loss: 0.0012 - val_loss: 0.0013\n",
      "Epoch 25/100\n",
      "12/12 [==============================] - 2s 205ms/step - loss: 0.0012 - val_loss: 0.0013\n",
      "Epoch 26/100\n",
      "12/12 [==============================] - 2s 206ms/step - loss: 0.0011 - val_loss: 0.0013\n",
      "Epoch 27/100\n",
      "12/12 [==============================] - 3s 234ms/step - loss: 0.0011 - val_loss: 0.0013\n",
      "Epoch 28/100\n",
      "12/12 [==============================] - 3s 214ms/step - loss: 0.0012 - val_loss: 0.0014\n",
      "Epoch 29/100\n",
      "12/12 [==============================] - 2s 208ms/step - loss: 0.0012 - val_loss: 0.0016\n",
      "Epoch 30/100\n",
      "12/12 [==============================] - 2s 206ms/step - loss: 0.0013 - val_loss: 0.0012\n",
      "Epoch 31/100\n",
      "12/12 [==============================] - 2s 207ms/step - loss: 0.0010 - val_loss: 0.0012\n",
      "Epoch 32/100\n",
      "12/12 [==============================] - 2s 205ms/step - loss: 0.0011 - val_loss: 0.0011\n",
      "Epoch 33/100\n",
      "12/12 [==============================] - 2s 199ms/step - loss: 0.0010 - val_loss: 0.0014\n",
      "Epoch 34/100\n",
      "12/12 [==============================] - 2s 206ms/step - loss: 0.0011 - val_loss: 0.0011\n",
      "Epoch 35/100\n",
      "12/12 [==============================] - 3s 219ms/step - loss: 0.0010 - val_loss: 0.0013\n",
      "Epoch 36/100\n",
      "12/12 [==============================] - 3s 214ms/step - loss: 0.0011 - val_loss: 0.0012\n",
      "Epoch 37/100\n",
      "12/12 [==============================] - 2s 200ms/step - loss: 9.9098e-04 - val_loss: 0.0012\n",
      "Epoch 38/100\n",
      "12/12 [==============================] - 2s 197ms/step - loss: 9.8836e-04 - val_loss: 0.0011\n",
      "Epoch 39/100\n",
      "12/12 [==============================] - 2s 204ms/step - loss: 0.0012 - val_loss: 0.0011\n",
      "Epoch 40/100\n",
      "12/12 [==============================] - 2s 203ms/step - loss: 0.0011 - val_loss: 0.0011\n",
      "Epoch 41/100\n",
      "12/12 [==============================] - 2s 205ms/step - loss: 9.1766e-04 - val_loss: 0.0011\n",
      "Epoch 42/100\n",
      "12/12 [==============================] - 2s 206ms/step - loss: 9.0624e-04 - val_loss: 9.0734e-04\n",
      "Epoch 43/100\n",
      "12/12 [==============================] - 3s 210ms/step - loss: 9.6704e-04 - val_loss: 0.0014\n",
      "Epoch 44/100\n",
      "12/12 [==============================] - 2s 202ms/step - loss: 9.5511e-04 - val_loss: 9.4395e-04\n",
      "Epoch 45/100\n",
      "12/12 [==============================] - 2s 204ms/step - loss: 9.1595e-04 - val_loss: 8.5761e-04\n",
      "Epoch 46/100\n",
      "12/12 [==============================] - 2s 198ms/step - loss: 8.3732e-04 - val_loss: 8.5876e-04\n",
      "Epoch 47/100\n",
      "12/12 [==============================] - 3s 212ms/step - loss: 8.2231e-04 - val_loss: 9.7108e-04\n",
      "Epoch 48/100\n",
      "12/12 [==============================] - 2s 201ms/step - loss: 8.1843e-04 - val_loss: 8.6040e-04\n",
      "Epoch 49/100\n",
      "12/12 [==============================] - 2s 202ms/step - loss: 8.2682e-04 - val_loss: 9.0575e-04\n",
      "Epoch 50/100\n",
      "12/12 [==============================] - 2s 198ms/step - loss: 7.8835e-04 - val_loss: 8.4258e-04\n",
      "Epoch 51/100\n",
      "12/12 [==============================] - 2s 199ms/step - loss: 7.5809e-04 - val_loss: 8.2596e-04\n",
      "Epoch 52/100\n",
      "12/12 [==============================] - 2s 205ms/step - loss: 7.2176e-04 - val_loss: 7.2867e-04\n",
      "Epoch 53/100\n",
      "12/12 [==============================] - 2s 201ms/step - loss: 8.4270e-04 - val_loss: 7.0881e-04\n",
      "Epoch 54/100\n",
      "12/12 [==============================] - 2s 196ms/step - loss: 8.4220e-04 - val_loss: 0.0011\n",
      "Epoch 55/100\n",
      "12/12 [==============================] - 2s 202ms/step - loss: 8.6512e-04 - val_loss: 0.0010\n",
      "Epoch 56/100\n",
      "12/12 [==============================] - 2s 202ms/step - loss: 7.1278e-04 - val_loss: 7.8308e-04\n",
      "Epoch 57/100\n",
      "12/12 [==============================] - 2s 203ms/step - loss: 6.7279e-04 - val_loss: 9.2057e-04\n",
      "Epoch 58/100\n",
      "12/12 [==============================] - 2s 204ms/step - loss: 6.6839e-04 - val_loss: 6.9885e-04\n",
      "Epoch 59/100\n",
      "12/12 [==============================] - 2s 202ms/step - loss: 7.2085e-04 - val_loss: 6.8040e-04\n",
      "Epoch 60/100\n",
      "12/12 [==============================] - 2s 209ms/step - loss: 6.7708e-04 - val_loss: 0.0012\n",
      "Epoch 61/100\n",
      "12/12 [==============================] - 2s 204ms/step - loss: 9.5399e-04 - val_loss: 9.5607e-04\n",
      "Epoch 62/100\n",
      "12/12 [==============================] - 2s 199ms/step - loss: 9.6964e-04 - val_loss: 6.9099e-04\n",
      "Epoch 63/100\n",
      "12/12 [==============================] - 2s 209ms/step - loss: 8.2864e-04 - val_loss: 8.3903e-04\n",
      "Epoch 64/100\n",
      "12/12 [==============================] - 3s 210ms/step - loss: 7.0306e-04 - val_loss: 8.3084e-04\n",
      "Epoch 65/100\n",
      "12/12 [==============================] - 2s 209ms/step - loss: 6.4725e-04 - val_loss: 6.8652e-04\n",
      "Epoch 66/100\n",
      "12/12 [==============================] - 3s 211ms/step - loss: 6.1649e-04 - val_loss: 8.2430e-04\n",
      "Epoch 67/100\n",
      "12/12 [==============================] - 3s 212ms/step - loss: 6.2361e-04 - val_loss: 7.5563e-04\n",
      "Epoch 68/100\n",
      "12/12 [==============================] - 3s 209ms/step - loss: 6.0063e-04 - val_loss: 6.9664e-04\n",
      "Epoch 69/100\n",
      "12/12 [==============================] - 3s 210ms/step - loss: 6.0935e-04 - val_loss: 6.9454e-04\n",
      "Epoch 70/100\n",
      "12/12 [==============================] - 3s 216ms/step - loss: 6.2917e-04 - val_loss: 9.3237e-04\n",
      "Epoch 71/100\n",
      "12/12 [==============================] - 3s 254ms/step - loss: 6.6696e-04 - val_loss: 0.0011\n",
      "Epoch 72/100\n",
      "12/12 [==============================] - 2s 202ms/step - loss: 8.0057e-04 - val_loss: 6.4521e-04\n",
      "Epoch 73/100\n",
      "12/12 [==============================] - 2s 200ms/step - loss: 6.3341e-04 - val_loss: 8.1458e-04\n",
      "Epoch 74/100\n",
      "12/12 [==============================] - 2s 202ms/step - loss: 5.6904e-04 - val_loss: 7.4567e-04\n",
      "Epoch 75/100\n",
      "12/12 [==============================] - 2s 204ms/step - loss: 5.6233e-04 - val_loss: 7.6167e-04\n",
      "Epoch 76/100\n",
      "12/12 [==============================] - 2s 210ms/step - loss: 5.8374e-04 - val_loss: 7.2428e-04\n",
      "Epoch 77/100\n",
      "12/12 [==============================] - 2s 198ms/step - loss: 5.8584e-04 - val_loss: 6.5034e-04\n",
      "Epoch 78/100\n",
      "12/12 [==============================] - 2s 204ms/step - loss: 5.6251e-04 - val_loss: 7.1248e-04\n",
      "Epoch 79/100\n",
      "12/12 [==============================] - 2s 206ms/step - loss: 5.5379e-04 - val_loss: 7.0717e-04\n",
      "Epoch 80/100\n",
      "12/12 [==============================] - 2s 203ms/step - loss: 5.5772e-04 - val_loss: 8.0465e-04\n",
      "Epoch 81/100\n",
      "12/12 [==============================] - 3s 212ms/step - loss: 5.5386e-04 - val_loss: 6.3913e-04\n",
      "Epoch 82/100\n",
      "12/12 [==============================] - 3s 227ms/step - loss: 5.7206e-04 - val_loss: 6.1091e-04\n",
      "Epoch 83/100\n",
      "12/12 [==============================] - 2s 208ms/step - loss: 6.5974e-04 - val_loss: 6.6665e-04\n",
      "Epoch 84/100\n",
      "12/12 [==============================] - 3s 212ms/step - loss: 5.6125e-04 - val_loss: 8.5301e-04\n",
      "Epoch 85/100\n",
      "12/12 [==============================] - 2s 205ms/step - loss: 5.5679e-04 - val_loss: 6.2644e-04\n",
      "Epoch 86/100\n",
      "12/12 [==============================] - 2s 203ms/step - loss: 5.4765e-04 - val_loss: 7.2293e-04\n",
      "Epoch 87/100\n",
      "12/12 [==============================] - 3s 218ms/step - loss: 5.5859e-04 - val_loss: 8.5895e-04\n",
      "Epoch 88/100\n",
      "12/12 [==============================] - 3s 211ms/step - loss: 5.5876e-04 - val_loss: 0.0011\n",
      "Epoch 89/100\n",
      "12/12 [==============================] - 2s 204ms/step - loss: 6.3734e-04 - val_loss: 6.0115e-04\n",
      "Epoch 90/100\n",
      "12/12 [==============================] - 2s 209ms/step - loss: 6.1358e-04 - val_loss: 7.4256e-04\n",
      "Epoch 91/100\n",
      "12/12 [==============================] - 3s 215ms/step - loss: 5.6018e-04 - val_loss: 9.6063e-04\n",
      "Epoch 92/100\n",
      "12/12 [==============================] - 3s 210ms/step - loss: 5.3046e-04 - val_loss: 6.5684e-04\n",
      "Epoch 93/100\n",
      "12/12 [==============================] - 3s 210ms/step - loss: 5.2008e-04 - val_loss: 8.1371e-04\n",
      "Epoch 94/100\n",
      "12/12 [==============================] - 2s 203ms/step - loss: 5.3043e-04 - val_loss: 6.2248e-04\n",
      "Epoch 95/100\n",
      "12/12 [==============================] - 2s 203ms/step - loss: 5.1136e-04 - val_loss: 5.7317e-04\n",
      "Epoch 96/100\n",
      "12/12 [==============================] - 2s 202ms/step - loss: 5.7988e-04 - val_loss: 8.3260e-04\n",
      "Epoch 97/100\n",
      "12/12 [==============================] - 2s 198ms/step - loss: 5.1254e-04 - val_loss: 5.6810e-04\n",
      "Epoch 98/100\n",
      "12/12 [==============================] - 2s 200ms/step - loss: 5.7064e-04 - val_loss: 5.5570e-04\n",
      "Epoch 99/100\n",
      "12/12 [==============================] - 3s 209ms/step - loss: 5.8580e-04 - val_loss: 5.5675e-04\n",
      "Epoch 100/100\n",
      "12/12 [==============================] - 2s 208ms/step - loss: 6.1374e-04 - val_loss: 0.0011\n"
     ]
    },
    {
     "data": {
      "text/plain": [
       "<keras.callbacks.History at 0x7fb879038390>"
      ]
     },
     "execution_count": 32,
     "metadata": {},
     "output_type": "execute_result"
    }
   ],
   "source": [
    "model.fit(X_train,y_train,validation_data=(X_test,ytest),epochs=100,batch_size=64,verbose=1)"
   ]
  },
  {
   "cell_type": "code",
   "execution_count": null,
   "metadata": {
    "id": "GtbIoOviXeNc"
   },
   "outputs": [],
   "source": [
    "import tensorflow as tf"
   ]
  },
  {
   "cell_type": "code",
   "execution_count": null,
   "metadata": {
    "colab": {
     "base_uri": "https://localhost:8080/",
     "height": 35
    },
    "id": "9LaPY9g4XeSk",
    "outputId": "387a8029-ec81-4716-d33a-52c5f055ada2"
   },
   "outputs": [
    {
     "data": {
      "application/vnd.google.colaboratory.intrinsic+json": {
       "type": "string"
      },
      "text/plain": [
       "'2.8.0'"
      ]
     },
     "execution_count": 34,
     "metadata": {},
     "output_type": "execute_result"
    }
   ],
   "source": [
    "tf.__version__"
   ]
  },
  {
   "cell_type": "code",
   "execution_count": null,
   "metadata": {
    "id": "teAWWsDlXeWD"
   },
   "outputs": [],
   "source": [
    "### Lets Do the prediction and check performance metrics\n",
    "train_predict=model.predict(X_train)\n",
    "test_predict=model.predict(X_test)"
   ]
  },
  {
   "cell_type": "code",
   "execution_count": null,
   "metadata": {
    "id": "F5WxeAaQXeYn"
   },
   "outputs": [],
   "source": [
    "##Transformback to original form\n",
    "train_predict=scaler.inverse_transform(train_predict)\n",
    "test_predict=scaler.inverse_transform(test_predict)"
   ]
  },
  {
   "cell_type": "code",
   "execution_count": null,
   "metadata": {
    "colab": {
     "base_uri": "https://localhost:8080/"
    },
    "id": "A1AL5uJRXebs",
    "outputId": "3284b2b1-4a98-475a-f5cb-1300d2775301"
   },
   "outputs": [
    {
     "data": {
      "text/plain": [
       "22.821873696573153"
      ]
     },
     "execution_count": 37,
     "metadata": {},
     "output_type": "execute_result"
    }
   ],
   "source": [
    "### Calculate RMSE performance metrics\n",
    "import math\n",
    "from sklearn.metrics import mean_squared_error\n",
    "math.sqrt(mean_squared_error(y_train,train_predict))"
   ]
  },
  {
   "cell_type": "code",
   "execution_count": null,
   "metadata": {
    "colab": {
     "base_uri": "https://localhost:8080/"
    },
    "id": "eqQnrYMvXegc",
    "outputId": "fa18f80a-602b-46af-8e76-0035a5d7041a"
   },
   "outputs": [
    {
     "data": {
      "text/plain": [
       "14.597310465534687"
      ]
     },
     "execution_count": 38,
     "metadata": {},
     "output_type": "execute_result"
    }
   ],
   "source": [
    "### Test Data RMSE\n",
    "math.sqrt(mean_squared_error(ytest,test_predict))"
   ]
  },
  {
   "cell_type": "code",
   "execution_count": null,
   "metadata": {
    "colab": {
     "base_uri": "https://localhost:8080/",
     "height": 497
    },
    "id": "kmgGtfs3V6Qn",
    "outputId": "0d50875c-2dd6-48dd-ac93-6278f917225e"
   },
   "outputs": [
    {
     "data": {
      "image/png": "[encoded data removed]",
      "text/plain": [
       "<Figure size 1152x576 with 1 Axes>"
      ]
     },
     "metadata": {
      "needs_background": "light"
     },
     "output_type": "display_data"
    }
   ],
   "source": [
    "### Plotting \n",
    "# shift train predictions for plotting\n",
    "look_back=100\n",
    "trainPredictPlot = numpy.empty_like(df1)\n",
    "trainPredictPlot[:, :] = np.nan\n",
    "trainPredictPlot[look_back:len(train_predict)+look_back, :] = train_predict\n",
    "# shift test predictions for plotting\n",
    "testPredictPlot = numpy.empty_like(df1)\n",
    "testPredictPlot[:, :] = numpy.nan\n",
    "testPredictPlot[len(train_predict)+(look_back*2)+1:len(df1)-1, :] = test_predict\n",
    "# plot baseline and predictions\n",
    "plt.figure(figsize=(16,8))\n",
    "plt.plot(scaler.inverse_transform(df1))\n",
    "plt.plot(trainPredictPlot)\n",
    "plt.plot(testPredictPlot)\n",
    "plt.xlabel('day')\n",
    "plt.ylabel('close stock price')\n",
    "plt.show()"
   ]
  },
  {
   "cell_type": "code",
   "execution_count": null,
   "metadata": {
    "colab": {
     "base_uri": "https://localhost:8080/"
    },
    "id": "fXilmqG_V6Td",
    "outputId": "b2503fc3-ac21-489d-a44b-854a08a62779"
   },
   "outputs": [
    {
     "data": {
      "text/plain": [
       "441"
      ]
     },
     "execution_count": 40,
     "metadata": {},
     "output_type": "execute_result"
    }
   ],
   "source": [
    "len(test_data)"
   ]
  },
  {
   "cell_type": "code",
   "execution_count": null,
   "metadata": {
    "colab": {
     "base_uri": "https://localhost:8080/"
    },
    "id": "bi80N_xPV6WD",
    "outputId": "a8838f3b-4479-40eb-8956-d192324dea0e"
   },
   "outputs": [
    {
     "data": {
      "text/plain": [
       "(1, 100)"
      ]
     },
     "execution_count": 41,
     "metadata": {},
     "output_type": "execute_result"
    }
   ],
   "source": [
    "x_input=test_data[341:].reshape(1,-1)\n",
    "x_input.shape"
   ]
  },
  {
   "cell_type": "code",
   "execution_count": null,
   "metadata": {
    "id": "M4lSrsKFdgWL"
   },
   "outputs": [],
   "source": [
    "temp_input=list(x_input)\n",
    "temp_input=temp_input[0].tolist()"
   ]
  },
  {
   "cell_type": "code",
   "execution_count": null,
   "metadata": {
    "colab": {
     "base_uri": "https://localhost:8080/"
    },
    "id": "G1IepE34dghs",
    "outputId": "4a3076a7-fb50-41b8-ceff-c18c9a8dc6a1"
   },
   "outputs": [
    {
     "data": {
      "text/plain": [
       "[0.3874657948901817,\n",
       " 0.39716484961042403,\n",
       " 0.40014920666129805,\n",
       " 0.408604814508709,\n",
       " 0.3964187914344991,\n",
       " 0.3790101870427708,\n",
       " 0.3867196869753871,\n",
       " 0.3760258797307665,\n",
       " 0.38846059715342957,\n",
       " 0.3911961852475458,\n",
       " 0.4016413727520176,\n",
       " 0.4066152597210828,\n",
       " 0.39840834622212523,\n",
       " 0.3797562700881306,\n",
       " 0.3874657948901817,\n",
       " 0.3824918830516816,\n",
       " 0.38870924176301314,\n",
       " 0.4056204574578349,\n",
       " 0.41034567494788166,\n",
       " 0.4220342844557502,\n",
       " 0.42949513977878295,\n",
       " 0.4307386115210492,\n",
       " 0.43720466458083407,\n",
       " 0.42675950194579704,\n",
       " 0.4431733289437123,\n",
       " 0.4434220232921655,\n",
       " 0.41706042235611984,\n",
       " 0.4250186415066243,\n",
       " 0.42825164316708175,\n",
       " 0.4337229437024883,\n",
       " 0.4299925533451242,\n",
       " 0.43969160806536667,\n",
       " 0.4501367707004036,\n",
       " 0.43894552502000683,\n",
       " 0.44043771598016124,\n",
       " 0.45411588027565575,\n",
       " 0.45162893679112315,\n",
       " 0.48545136818076684,\n",
       " 0.4904252302803972,\n",
       " 0.498134804821318,\n",
       " 0.48097486990860816,\n",
       " 0.48445656591751896,\n",
       " 0.49291219863436464,\n",
       " 0.4949017534219907,\n",
       " 0.4891817834075657,\n",
       " 0.4859487817471081,\n",
       " 0.4700323185766646,\n",
       " 0.4501367707004036,\n",
       " 0.4605819333354406,\n",
       " 0.4625714881230667,\n",
       " 0.4558567407148286,\n",
       " 0.4578462955024547,\n",
       " 0.46182540507770686,\n",
       " 0.4680427637890384,\n",
       " 0.46630190334986554,\n",
       " 0.46505845647703414,\n",
       " 0.46978359935877645,\n",
       " 0.47177315414640253,\n",
       " 0.4041283162365502,\n",
       " 0.408604814508709,\n",
       " 0.39393184794996655,\n",
       " 0.4053717631093817,\n",
       " 0.403879621888097,\n",
       " 0.405869176675723,\n",
       " 0.4098482613815404,\n",
       " 0.4088535088571622,\n",
       " 0.4053717631093817,\n",
       " 0.3981596518736719,\n",
       " 0.40686397893897086,\n",
       " 0.4088535088571622,\n",
       " 0.3931857400351718,\n",
       " 0.3862223480173502,\n",
       " 0.38846059715342957,\n",
       " 0.3777667153005045,\n",
       " 0.3795075757396773,\n",
       " 0.3914449044654339,\n",
       " 0.3879631835870882,\n",
       " 0.39194229316234036,\n",
       " 0.4098482613815404,\n",
       " 0.38895793611146645,\n",
       " 0.39840834622212523,\n",
       " 0.39865706544001334,\n",
       " 0.392688401077135,\n",
       " 0.38945534967780776,\n",
       " 0.39691620500084046,\n",
       " 0.4083561201602557,\n",
       " 0.4083561201602557,\n",
       " 0.40139265353412956,\n",
       " 0.382989296618023,\n",
       " 0.38199454409364475,\n",
       " 0.37353891137679907,\n",
       " 0.3747823831190653,\n",
       " 0.36433722048402833,\n",
       " 0.3740363249431404,\n",
       " 0.3752797718159719,\n",
       " 0.36856502440773375,\n",
       " 0.389704044026261,\n",
       " 0.38995273837471434,\n",
       " 0.3879631835870882,\n",
       " 0.40039790100975126]"
      ]
     },
     "execution_count": 43,
     "metadata": {},
     "output_type": "execute_result"
    }
   ],
   "source": [
    "temp_input"
   ]
  },
  {
   "cell_type": "code",
   "execution_count": null,
   "metadata": {
    "colab": {
     "base_uri": "https://localhost:8080/"
    },
    "id": "hn4XGdFBfvzx",
    "outputId": "6939ed56-356e-4b45-9321-5acf76e555bf"
   },
   "outputs": [
    {
     "name": "stdout",
     "output_type": "stream",
     "text": [
      "[0.35147825]\n",
      "101\n",
      "1 day input [0.39716485 0.40014921 0.40860481 0.39641879 0.37901019 0.38671969\n",
      " 0.37602588 0.3884606  0.39119619 0.40164137 0.40661526 0.39840835\n",
      " 0.37975627 0.38746579 0.38249188 0.38870924 0.40562046 0.41034567\n",
      " 0.42203428 0.42949514 0.43073861 0.43720466 0.4267595  0.44317333\n",
      " 0.44342202 0.41706042 0.42501864 0.42825164 0.43372294 0.42999255\n",
      " 0.43969161 0.45013677 0.43894553 0.44043772 0.45411588 0.45162894\n",
      " 0.48545137 0.49042523 0.4981348  0.48097487 0.48445657 0.4929122\n",
      " 0.49490175 0.48918178 0.48594878 0.47003232 0.45013677 0.46058193\n",
      " 0.46257149 0.45585674 0.4578463  0.46182541 0.46804276 0.4663019\n",
      " 0.46505846 0.4697836  0.47177315 0.40412832 0.40860481 0.39393185\n",
      " 0.40537176 0.40387962 0.40586918 0.40984826 0.40885351 0.40537176\n",
      " 0.39815965 0.40686398 0.40885351 0.39318574 0.38622235 0.3884606\n",
      " 0.37776672 0.37950758 0.3914449  0.38796318 0.39194229 0.40984826\n",
      " 0.38895794 0.39840835 0.39865707 0.3926884  0.38945535 0.39691621\n",
      " 0.40835612 0.40835612 0.40139265 0.3829893  0.38199454 0.37353891\n",
      " 0.37478238 0.36433722 0.37403632 0.37527977 0.36856502 0.38970404\n",
      " 0.38995274 0.38796318 0.4003979  0.35147825]\n",
      "1 day output [[0.35326022]]\n",
      "2 day input [0.40014921 0.40860481 0.39641879 0.37901019 0.38671969 0.37602588\n",
      " 0.3884606  0.39119619 0.40164137 0.40661526 0.39840835 0.37975627\n",
      " 0.38746579 0.38249188 0.38870924 0.40562046 0.41034567 0.42203428\n",
      " 0.42949514 0.43073861 0.43720466 0.4267595  0.44317333 0.44342202\n",
      " 0.41706042 0.42501864 0.42825164 0.43372294 0.42999255 0.43969161\n",
      " 0.45013677 0.43894553 0.44043772 0.45411588 0.45162894 0.48545137\n",
      " 0.49042523 0.4981348  0.48097487 0.48445657 0.4929122  0.49490175\n",
      " 0.48918178 0.48594878 0.47003232 0.45013677 0.46058193 0.46257149\n",
      " 0.45585674 0.4578463  0.46182541 0.46804276 0.4663019  0.46505846\n",
      " 0.4697836  0.47177315 0.40412832 0.40860481 0.39393185 0.40537176\n",
      " 0.40387962 0.40586918 0.40984826 0.40885351 0.40537176 0.39815965\n",
      " 0.40686398 0.40885351 0.39318574 0.38622235 0.3884606  0.37776672\n",
      " 0.37950758 0.3914449  0.38796318 0.39194229 0.40984826 0.38895794\n",
      " 0.39840835 0.39865707 0.3926884  0.38945535 0.39691621 0.40835612\n",
      " 0.40835612 0.40139265 0.3829893  0.38199454 0.37353891 0.37478238\n",
      " 0.36433722 0.37403632 0.37527977 0.36856502 0.38970404 0.38995274\n",
      " 0.38796318 0.4003979  0.35147825 0.35326022]\n",
      "2 day output [[0.3526357]]\n",
      "3 day input [0.40860481 0.39641879 0.37901019 0.38671969 0.37602588 0.3884606\n",
      " 0.39119619 0.40164137 0.40661526 0.39840835 0.37975627 0.38746579\n",
      " 0.38249188 0.38870924 0.40562046 0.41034567 0.42203428 0.42949514\n",
      " 0.43073861 0.43720466 0.4267595  0.44317333 0.44342202 0.41706042\n",
      " 0.42501864 0.42825164 0.43372294 0.42999255 0.43969161 0.45013677\n",
      " 0.43894553 0.44043772 0.45411588 0.45162894 0.48545137 0.49042523\n",
      " 0.4981348  0.48097487 0.48445657 0.4929122  0.49490175 0.48918178\n",
      " 0.48594878 0.47003232 0.45013677 0.46058193 0.46257149 0.45585674\n",
      " 0.4578463  0.46182541 0.46804276 0.4663019  0.46505846 0.4697836\n",
      " 0.47177315 0.40412832 0.40860481 0.39393185 0.40537176 0.40387962\n",
      " 0.40586918 0.40984826 0.40885351 0.40537176 0.39815965 0.40686398\n",
      " 0.40885351 0.39318574 0.38622235 0.3884606  0.37776672 0.37950758\n",
      " 0.3914449  0.38796318 0.39194229 0.40984826 0.38895794 0.39840835\n",
      " 0.39865707 0.3926884  0.38945535 0.39691621 0.40835612 0.40835612\n",
      " 0.40139265 0.3829893  0.38199454 0.37353891 0.37478238 0.36433722\n",
      " 0.37403632 0.37527977 0.36856502 0.38970404 0.38995274 0.38796318\n",
      " 0.4003979  0.35147825 0.35326022 0.35263571]\n",
      "3 day output [[0.34989125]]\n",
      "4 day input [0.39641879 0.37901019 0.38671969 0.37602588 0.3884606  0.39119619\n",
      " 0.40164137 0.40661526 0.39840835 0.37975627 0.38746579 0.38249188\n",
      " 0.38870924 0.40562046 0.41034567 0.42203428 0.42949514 0.43073861\n",
      " 0.43720466 0.4267595  0.44317333 0.44342202 0.41706042 0.42501864\n",
      " 0.42825164 0.43372294 0.42999255 0.43969161 0.45013677 0.43894553\n",
      " 0.44043772 0.45411588 0.45162894 0.48545137 0.49042523 0.4981348\n",
      " 0.48097487 0.48445657 0.4929122  0.49490175 0.48918178 0.48594878\n",
      " 0.47003232 0.45013677 0.46058193 0.46257149 0.45585674 0.4578463\n",
      " 0.46182541 0.46804276 0.4663019  0.46505846 0.4697836  0.47177315\n",
      " 0.40412832 0.40860481 0.39393185 0.40537176 0.40387962 0.40586918\n",
      " 0.40984826 0.40885351 0.40537176 0.39815965 0.40686398 0.40885351\n",
      " 0.39318574 0.38622235 0.3884606  0.37776672 0.37950758 0.3914449\n",
      " 0.38796318 0.39194229 0.40984826 0.38895794 0.39840835 0.39865707\n",
      " 0.3926884  0.38945535 0.39691621 0.40835612 0.40835612 0.40139265\n",
      " 0.3829893  0.38199454 0.37353891 0.37478238 0.36433722 0.37403632\n",
      " 0.37527977 0.36856502 0.38970404 0.38995274 0.38796318 0.4003979\n",
      " 0.35147825 0.35326022 0.35263571 0.34989125]\n",
      "4 day output [[0.34561467]]\n",
      "5 day input [0.37901019 0.38671969 0.37602588 0.3884606  0.39119619 0.40164137\n",
      " 0.40661526 0.39840835 0.37975627 0.38746579 0.38249188 0.38870924\n",
      " 0.40562046 0.41034567 0.42203428 0.42949514 0.43073861 0.43720466\n",
      " 0.4267595  0.44317333 0.44342202 0.41706042 0.42501864 0.42825164\n",
      " 0.43372294 0.42999255 0.43969161 0.45013677 0.43894553 0.44043772\n",
      " 0.45411588 0.45162894 0.48545137 0.49042523 0.4981348  0.48097487\n",
      " 0.48445657 0.4929122  0.49490175 0.48918178 0.48594878 0.47003232\n",
      " 0.45013677 0.46058193 0.46257149 0.45585674 0.4578463  0.46182541\n",
      " 0.46804276 0.4663019  0.46505846 0.4697836  0.47177315 0.40412832\n",
      " 0.40860481 0.39393185 0.40537176 0.40387962 0.40586918 0.40984826\n",
      " 0.40885351 0.40537176 0.39815965 0.40686398 0.40885351 0.39318574\n",
      " 0.38622235 0.3884606  0.37776672 0.37950758 0.3914449  0.38796318\n",
      " 0.39194229 0.40984826 0.38895794 0.39840835 0.39865707 0.3926884\n",
      " 0.38945535 0.39691621 0.40835612 0.40835612 0.40139265 0.3829893\n",
      " 0.38199454 0.37353891 0.37478238 0.36433722 0.37403632 0.37527977\n",
      " 0.36856502 0.38970404 0.38995274 0.38796318 0.4003979  0.35147825\n",
      " 0.35326022 0.35263571 0.34989125 0.34561467]\n",
      "5 day output [[0.3403897]]\n",
      "6 day input [0.38671969 0.37602588 0.3884606  0.39119619 0.40164137 0.40661526\n",
      " 0.39840835 0.37975627 0.38746579 0.38249188 0.38870924 0.40562046\n",
      " 0.41034567 0.42203428 0.42949514 0.43073861 0.43720466 0.4267595\n",
      " 0.44317333 0.44342202 0.41706042 0.42501864 0.42825164 0.43372294\n",
      " 0.42999255 0.43969161 0.45013677 0.43894553 0.44043772 0.45411588\n",
      " 0.45162894 0.48545137 0.49042523 0.4981348  0.48097487 0.48445657\n",
      " 0.4929122  0.49490175 0.48918178 0.48594878 0.47003232 0.45013677\n",
      " 0.46058193 0.46257149 0.45585674 0.4578463  0.46182541 0.46804276\n",
      " 0.4663019  0.46505846 0.4697836  0.47177315 0.40412832 0.40860481\n",
      " 0.39393185 0.40537176 0.40387962 0.40586918 0.40984826 0.40885351\n",
      " 0.40537176 0.39815965 0.40686398 0.40885351 0.39318574 0.38622235\n",
      " 0.3884606  0.37776672 0.37950758 0.3914449  0.38796318 0.39194229\n",
      " 0.40984826 0.38895794 0.39840835 0.39865707 0.3926884  0.38945535\n",
      " 0.39691621 0.40835612 0.40835612 0.40139265 0.3829893  0.38199454\n",
      " 0.37353891 0.37478238 0.36433722 0.37403632 0.37527977 0.36856502\n",
      " 0.38970404 0.38995274 0.38796318 0.4003979  0.35147825 0.35326022\n",
      " 0.35263571 0.34989125 0.34561467 0.3403897 ]\n",
      "6 day output [[0.3346726]]\n",
      "7 day input [0.37602588 0.3884606  0.39119619 0.40164137 0.40661526 0.39840835\n",
      " 0.37975627 0.38746579 0.38249188 0.38870924 0.40562046 0.41034567\n",
      " 0.42203428 0.42949514 0.43073861 0.43720466 0.4267595  0.44317333\n",
      " 0.44342202 0.41706042 0.42501864 0.42825164 0.43372294 0.42999255\n",
      " 0.43969161 0.45013677 0.43894553 0.44043772 0.45411588 0.45162894\n",
      " 0.48545137 0.49042523 0.4981348  0.48097487 0.48445657 0.4929122\n",
      " 0.49490175 0.48918178 0.48594878 0.47003232 0.45013677 0.46058193\n",
      " 0.46257149 0.45585674 0.4578463  0.46182541 0.46804276 0.4663019\n",
      " 0.46505846 0.4697836  0.47177315 0.40412832 0.40860481 0.39393185\n",
      " 0.40537176 0.40387962 0.40586918 0.40984826 0.40885351 0.40537176\n",
      " 0.39815965 0.40686398 0.40885351 0.39318574 0.38622235 0.3884606\n",
      " 0.37776672 0.37950758 0.3914449  0.38796318 0.39194229 0.40984826\n",
      " 0.38895794 0.39840835 0.39865707 0.3926884  0.38945535 0.39691621\n",
      " 0.40835612 0.40835612 0.40139265 0.3829893  0.38199454 0.37353891\n",
      " 0.37478238 0.36433722 0.37403632 0.37527977 0.36856502 0.38970404\n",
      " 0.38995274 0.38796318 0.4003979  0.35147825 0.35326022 0.35263571\n",
      " 0.34989125 0.34561467 0.3403897  0.3346726 ]\n",
      "7 day output [[0.3287728]]\n",
      "8 day input [0.3884606  0.39119619 0.40164137 0.40661526 0.39840835 0.37975627\n",
      " 0.38746579 0.38249188 0.38870924 0.40562046 0.41034567 0.42203428\n",
      " 0.42949514 0.43073861 0.43720466 0.4267595  0.44317333 0.44342202\n",
      " 0.41706042 0.42501864 0.42825164 0.43372294 0.42999255 0.43969161\n",
      " 0.45013677 0.43894553 0.44043772 0.45411588 0.45162894 0.48545137\n",
      " 0.49042523 0.4981348  0.48097487 0.48445657 0.4929122  0.49490175\n",
      " 0.48918178 0.48594878 0.47003232 0.45013677 0.46058193 0.46257149\n",
      " 0.45585674 0.4578463  0.46182541 0.46804276 0.4663019  0.46505846\n",
      " 0.4697836  0.47177315 0.40412832 0.40860481 0.39393185 0.40537176\n",
      " 0.40387962 0.40586918 0.40984826 0.40885351 0.40537176 0.39815965\n",
      " 0.40686398 0.40885351 0.39318574 0.38622235 0.3884606  0.37776672\n",
      " 0.37950758 0.3914449  0.38796318 0.39194229 0.40984826 0.38895794\n",
      " 0.39840835 0.39865707 0.3926884  0.38945535 0.39691621 0.40835612\n",
      " 0.40835612 0.40139265 0.3829893  0.38199454 0.37353891 0.37478238\n",
      " 0.36433722 0.37403632 0.37527977 0.36856502 0.38970404 0.38995274\n",
      " 0.38796318 0.4003979  0.35147825 0.35326022 0.35263571 0.34989125\n",
      " 0.34561467 0.3403897  0.3346726  0.32877281]\n",
      "8 day output [[0.32287827]]\n",
      "9 day input [0.39119619 0.40164137 0.40661526 0.39840835 0.37975627 0.38746579\n",
      " 0.38249188 0.38870924 0.40562046 0.41034567 0.42203428 0.42949514\n",
      " 0.43073861 0.43720466 0.4267595  0.44317333 0.44342202 0.41706042\n",
      " 0.42501864 0.42825164 0.43372294 0.42999255 0.43969161 0.45013677\n",
      " 0.43894553 0.44043772 0.45411588 0.45162894 0.48545137 0.49042523\n",
      " 0.4981348  0.48097487 0.48445657 0.4929122  0.49490175 0.48918178\n",
      " 0.48594878 0.47003232 0.45013677 0.46058193 0.46257149 0.45585674\n",
      " 0.4578463  0.46182541 0.46804276 0.4663019  0.46505846 0.4697836\n",
      " 0.47177315 0.40412832 0.40860481 0.39393185 0.40537176 0.40387962\n",
      " 0.40586918 0.40984826 0.40885351 0.40537176 0.39815965 0.40686398\n",
      " 0.40885351 0.39318574 0.38622235 0.3884606  0.37776672 0.37950758\n",
      " 0.3914449  0.38796318 0.39194229 0.40984826 0.38895794 0.39840835\n",
      " 0.39865707 0.3926884  0.38945535 0.39691621 0.40835612 0.40835612\n",
      " 0.40139265 0.3829893  0.38199454 0.37353891 0.37478238 0.36433722\n",
      " 0.37403632 0.37527977 0.36856502 0.38970404 0.38995274 0.38796318\n",
      " 0.4003979  0.35147825 0.35326022 0.35263571 0.34989125 0.34561467\n",
      " 0.3403897  0.3346726  0.32877281 0.32287827]\n",
      "9 day output [[0.31709325]]\n",
      "10 day input [0.40164137 0.40661526 0.39840835 0.37975627 0.38746579 0.38249188\n",
      " 0.38870924 0.40562046 0.41034567 0.42203428 0.42949514 0.43073861\n",
      " 0.43720466 0.4267595  0.44317333 0.44342202 0.41706042 0.42501864\n",
      " 0.42825164 0.43372294 0.42999255 0.43969161 0.45013677 0.43894553\n",
      " 0.44043772 0.45411588 0.45162894 0.48545137 0.49042523 0.4981348\n",
      " 0.48097487 0.48445657 0.4929122  0.49490175 0.48918178 0.48594878\n",
      " 0.47003232 0.45013677 0.46058193 0.46257149 0.45585674 0.4578463\n",
      " 0.46182541 0.46804276 0.4663019  0.46505846 0.4697836  0.47177315\n",
      " 0.40412832 0.40860481 0.39393185 0.40537176 0.40387962 0.40586918\n",
      " 0.40984826 0.40885351 0.40537176 0.39815965 0.40686398 0.40885351\n",
      " 0.39318574 0.38622235 0.3884606  0.37776672 0.37950758 0.3914449\n",
      " 0.38796318 0.39194229 0.40984826 0.38895794 0.39840835 0.39865707\n",
      " 0.3926884  0.38945535 0.39691621 0.40835612 0.40835612 0.40139265\n",
      " 0.3829893  0.38199454 0.37353891 0.37478238 0.36433722 0.37403632\n",
      " 0.37527977 0.36856502 0.38970404 0.38995274 0.38796318 0.4003979\n",
      " 0.35147825 0.35326022 0.35263571 0.34989125 0.34561467 0.3403897\n",
      " 0.3346726  0.32877281 0.32287827 0.31709325]\n",
      "10 day output [[0.3114709]]\n",
      "11 day input [0.40661526 0.39840835 0.37975627 0.38746579 0.38249188 0.38870924\n",
      " 0.40562046 0.41034567 0.42203428 0.42949514 0.43073861 0.43720466\n",
      " 0.4267595  0.44317333 0.44342202 0.41706042 0.42501864 0.42825164\n",
      " 0.43372294 0.42999255 0.43969161 0.45013677 0.43894553 0.44043772\n",
      " 0.45411588 0.45162894 0.48545137 0.49042523 0.4981348  0.48097487\n",
      " 0.48445657 0.4929122  0.49490175 0.48918178 0.48594878 0.47003232\n",
      " 0.45013677 0.46058193 0.46257149 0.45585674 0.4578463  0.46182541\n",
      " 0.46804276 0.4663019  0.46505846 0.4697836  0.47177315 0.40412832\n",
      " 0.40860481 0.39393185 0.40537176 0.40387962 0.40586918 0.40984826\n",
      " 0.40885351 0.40537176 0.39815965 0.40686398 0.40885351 0.39318574\n",
      " 0.38622235 0.3884606  0.37776672 0.37950758 0.3914449  0.38796318\n",
      " 0.39194229 0.40984826 0.38895794 0.39840835 0.39865707 0.3926884\n",
      " 0.38945535 0.39691621 0.40835612 0.40835612 0.40139265 0.3829893\n",
      " 0.38199454 0.37353891 0.37478238 0.36433722 0.37403632 0.37527977\n",
      " 0.36856502 0.38970404 0.38995274 0.38796318 0.4003979  0.35147825\n",
      " 0.35326022 0.35263571 0.34989125 0.34561467 0.3403897  0.3346726\n",
      " 0.32877281 0.32287827 0.31709325 0.3114709 ]\n",
      "11 day output [[0.30603626]]\n",
      "12 day input [0.39840835 0.37975627 0.38746579 0.38249188 0.38870924 0.40562046\n",
      " 0.41034567 0.42203428 0.42949514 0.43073861 0.43720466 0.4267595\n",
      " 0.44317333 0.44342202 0.41706042 0.42501864 0.42825164 0.43372294\n",
      " 0.42999255 0.43969161 0.45013677 0.43894553 0.44043772 0.45411588\n",
      " 0.45162894 0.48545137 0.49042523 0.4981348  0.48097487 0.48445657\n",
      " 0.4929122  0.49490175 0.48918178 0.48594878 0.47003232 0.45013677\n",
      " 0.46058193 0.46257149 0.45585674 0.4578463  0.46182541 0.46804276\n",
      " 0.4663019  0.46505846 0.4697836  0.47177315 0.40412832 0.40860481\n",
      " 0.39393185 0.40537176 0.40387962 0.40586918 0.40984826 0.40885351\n",
      " 0.40537176 0.39815965 0.40686398 0.40885351 0.39318574 0.38622235\n",
      " 0.3884606  0.37776672 0.37950758 0.3914449  0.38796318 0.39194229\n",
      " 0.40984826 0.38895794 0.39840835 0.39865707 0.3926884  0.38945535\n",
      " 0.39691621 0.40835612 0.40835612 0.40139265 0.3829893  0.38199454\n",
      " 0.37353891 0.37478238 0.36433722 0.37403632 0.37527977 0.36856502\n",
      " 0.38970404 0.38995274 0.38796318 0.4003979  0.35147825 0.35326022\n",
      " 0.35263571 0.34989125 0.34561467 0.3403897  0.3346726  0.32877281\n",
      " 0.32287827 0.31709325 0.3114709  0.30603626]\n",
      "12 day output [[0.30080065]]\n",
      "13 day input [0.37975627 0.38746579 0.38249188 0.38870924 0.40562046 0.41034567\n",
      " 0.42203428 0.42949514 0.43073861 0.43720466 0.4267595  0.44317333\n",
      " 0.44342202 0.41706042 0.42501864 0.42825164 0.43372294 0.42999255\n",
      " 0.43969161 0.45013677 0.43894553 0.44043772 0.45411588 0.45162894\n",
      " 0.48545137 0.49042523 0.4981348  0.48097487 0.48445657 0.4929122\n",
      " 0.49490175 0.48918178 0.48594878 0.47003232 0.45013677 0.46058193\n",
      " 0.46257149 0.45585674 0.4578463  0.46182541 0.46804276 0.4663019\n",
      " 0.46505846 0.4697836  0.47177315 0.40412832 0.40860481 0.39393185\n",
      " 0.40537176 0.40387962 0.40586918 0.40984826 0.40885351 0.40537176\n",
      " 0.39815965 0.40686398 0.40885351 0.39318574 0.38622235 0.3884606\n",
      " 0.37776672 0.37950758 0.3914449  0.38796318 0.39194229 0.40984826\n",
      " 0.38895794 0.39840835 0.39865707 0.3926884  0.38945535 0.39691621\n",
      " 0.40835612 0.40835612 0.40139265 0.3829893  0.38199454 0.37353891\n",
      " 0.37478238 0.36433722 0.37403632 0.37527977 0.36856502 0.38970404\n",
      " 0.38995274 0.38796318 0.4003979  0.35147825 0.35326022 0.35263571\n",
      " 0.34989125 0.34561467 0.3403897  0.3346726  0.32877281 0.32287827\n",
      " 0.31709325 0.3114709  0.30603626 0.30080065]\n",
      "13 day output [[0.29576918]]\n",
      "14 day input [0.38746579 0.38249188 0.38870924 0.40562046 0.41034567 0.42203428\n",
      " 0.42949514 0.43073861 0.43720466 0.4267595  0.44317333 0.44342202\n",
      " 0.41706042 0.42501864 0.42825164 0.43372294 0.42999255 0.43969161\n",
      " 0.45013677 0.43894553 0.44043772 0.45411588 0.45162894 0.48545137\n",
      " 0.49042523 0.4981348  0.48097487 0.48445657 0.4929122  0.49490175\n",
      " 0.48918178 0.48594878 0.47003232 0.45013677 0.46058193 0.46257149\n",
      " 0.45585674 0.4578463  0.46182541 0.46804276 0.4663019  0.46505846\n",
      " 0.4697836  0.47177315 0.40412832 0.40860481 0.39393185 0.40537176\n",
      " 0.40387962 0.40586918 0.40984826 0.40885351 0.40537176 0.39815965\n",
      " 0.40686398 0.40885351 0.39318574 0.38622235 0.3884606  0.37776672\n",
      " 0.37950758 0.3914449  0.38796318 0.39194229 0.40984826 0.38895794\n",
      " 0.39840835 0.39865707 0.3926884  0.38945535 0.39691621 0.40835612\n",
      " 0.40835612 0.40139265 0.3829893  0.38199454 0.37353891 0.37478238\n",
      " 0.36433722 0.37403632 0.37527977 0.36856502 0.38970404 0.38995274\n",
      " 0.38796318 0.4003979  0.35147825 0.35326022 0.35263571 0.34989125\n",
      " 0.34561467 0.3403897  0.3346726  0.32877281 0.32287827 0.31709325\n",
      " 0.3114709  0.30603626 0.30080065 0.29576918]\n",
      "14 day output [[0.29094315]]\n",
      "15 day input [0.38249188 0.38870924 0.40562046 0.41034567 0.42203428 0.42949514\n",
      " 0.43073861 0.43720466 0.4267595  0.44317333 0.44342202 0.41706042\n",
      " 0.42501864 0.42825164 0.43372294 0.42999255 0.43969161 0.45013677\n",
      " 0.43894553 0.44043772 0.45411588 0.45162894 0.48545137 0.49042523\n",
      " 0.4981348  0.48097487 0.48445657 0.4929122  0.49490175 0.48918178\n",
      " 0.48594878 0.47003232 0.45013677 0.46058193 0.46257149 0.45585674\n",
      " 0.4578463  0.46182541 0.46804276 0.4663019  0.46505846 0.4697836\n",
      " 0.47177315 0.40412832 0.40860481 0.39393185 0.40537176 0.40387962\n",
      " 0.40586918 0.40984826 0.40885351 0.40537176 0.39815965 0.40686398\n",
      " 0.40885351 0.39318574 0.38622235 0.3884606  0.37776672 0.37950758\n",
      " 0.3914449  0.38796318 0.39194229 0.40984826 0.38895794 0.39840835\n",
      " 0.39865707 0.3926884  0.38945535 0.39691621 0.40835612 0.40835612\n",
      " 0.40139265 0.3829893  0.38199454 0.37353891 0.37478238 0.36433722\n",
      " 0.37403632 0.37527977 0.36856502 0.38970404 0.38995274 0.38796318\n",
      " 0.4003979  0.35147825 0.35326022 0.35263571 0.34989125 0.34561467\n",
      " 0.3403897  0.3346726  0.32877281 0.32287827 0.31709325 0.3114709\n",
      " 0.30603626 0.30080065 0.29576918 0.29094315]\n",
      "15 day output [[0.286322]]\n",
      "16 day input [0.38870924 0.40562046 0.41034567 0.42203428 0.42949514 0.43073861\n",
      " 0.43720466 0.4267595  0.44317333 0.44342202 0.41706042 0.42501864\n",
      " 0.42825164 0.43372294 0.42999255 0.43969161 0.45013677 0.43894553\n",
      " 0.44043772 0.45411588 0.45162894 0.48545137 0.49042523 0.4981348\n",
      " 0.48097487 0.48445657 0.4929122  0.49490175 0.48918178 0.48594878\n",
      " 0.47003232 0.45013677 0.46058193 0.46257149 0.45585674 0.4578463\n",
      " 0.46182541 0.46804276 0.4663019  0.46505846 0.4697836  0.47177315\n",
      " 0.40412832 0.40860481 0.39393185 0.40537176 0.40387962 0.40586918\n",
      " 0.40984826 0.40885351 0.40537176 0.39815965 0.40686398 0.40885351\n",
      " 0.39318574 0.38622235 0.3884606  0.37776672 0.37950758 0.3914449\n",
      " 0.38796318 0.39194229 0.40984826 0.38895794 0.39840835 0.39865707\n",
      " 0.3926884  0.38945535 0.39691621 0.40835612 0.40835612 0.40139265\n",
      " 0.3829893  0.38199454 0.37353891 0.37478238 0.36433722 0.37403632\n",
      " 0.37527977 0.36856502 0.38970404 0.38995274 0.38796318 0.4003979\n",
      " 0.35147825 0.35326022 0.35263571 0.34989125 0.34561467 0.3403897\n",
      " 0.3346726  0.32877281 0.32287827 0.31709325 0.3114709  0.30603626\n",
      " 0.30080065 0.29576918 0.29094315 0.286322  ]\n",
      "16 day output [[0.28190246]]\n",
      "17 day input [0.40562046 0.41034567 0.42203428 0.42949514 0.43073861 0.43720466\n",
      " 0.4267595  0.44317333 0.44342202 0.41706042 0.42501864 0.42825164\n",
      " 0.43372294 0.42999255 0.43969161 0.45013677 0.43894553 0.44043772\n",
      " 0.45411588 0.45162894 0.48545137 0.49042523 0.4981348  0.48097487\n",
      " 0.48445657 0.4929122  0.49490175 0.48918178 0.48594878 0.47003232\n",
      " 0.45013677 0.46058193 0.46257149 0.45585674 0.4578463  0.46182541\n",
      " 0.46804276 0.4663019  0.46505846 0.4697836  0.47177315 0.40412832\n",
      " 0.40860481 0.39393185 0.40537176 0.40387962 0.40586918 0.40984826\n",
      " 0.40885351 0.40537176 0.39815965 0.40686398 0.40885351 0.39318574\n",
      " 0.38622235 0.3884606  0.37776672 0.37950758 0.3914449  0.38796318\n",
      " 0.39194229 0.40984826 0.38895794 0.39840835 0.39865707 0.3926884\n",
      " 0.38945535 0.39691621 0.40835612 0.40835612 0.40139265 0.3829893\n",
      " 0.38199454 0.37353891 0.37478238 0.36433722 0.37403632 0.37527977\n",
      " 0.36856502 0.38970404 0.38995274 0.38796318 0.4003979  0.35147825\n",
      " 0.35326022 0.35263571 0.34989125 0.34561467 0.3403897  0.3346726\n",
      " 0.32877281 0.32287827 0.31709325 0.3114709  0.30603626 0.30080065\n",
      " 0.29576918 0.29094315 0.286322   0.28190246]\n",
      "17 day output [[0.27767926]]\n",
      "18 day input [0.41034567 0.42203428 0.42949514 0.43073861 0.43720466 0.4267595\n",
      " 0.44317333 0.44342202 0.41706042 0.42501864 0.42825164 0.43372294\n",
      " 0.42999255 0.43969161 0.45013677 0.43894553 0.44043772 0.45411588\n",
      " 0.45162894 0.48545137 0.49042523 0.4981348  0.48097487 0.48445657\n",
      " 0.4929122  0.49490175 0.48918178 0.48594878 0.47003232 0.45013677\n",
      " 0.46058193 0.46257149 0.45585674 0.4578463  0.46182541 0.46804276\n",
      " 0.4663019  0.46505846 0.4697836  0.47177315 0.40412832 0.40860481\n",
      " 0.39393185 0.40537176 0.40387962 0.40586918 0.40984826 0.40885351\n",
      " 0.40537176 0.39815965 0.40686398 0.40885351 0.39318574 0.38622235\n",
      " 0.3884606  0.37776672 0.37950758 0.3914449  0.38796318 0.39194229\n",
      " 0.40984826 0.38895794 0.39840835 0.39865707 0.3926884  0.38945535\n",
      " 0.39691621 0.40835612 0.40835612 0.40139265 0.3829893  0.38199454\n",
      " 0.37353891 0.37478238 0.36433722 0.37403632 0.37527977 0.36856502\n",
      " 0.38970404 0.38995274 0.38796318 0.4003979  0.35147825 0.35326022\n",
      " 0.35263571 0.34989125 0.34561467 0.3403897  0.3346726  0.32877281\n",
      " 0.32287827 0.31709325 0.3114709  0.30603626 0.30080065 0.29576918\n",
      " 0.29094315 0.286322   0.28190246 0.27767926]\n",
      "18 day output [[0.2736447]]\n",
      "19 day input [0.42203428 0.42949514 0.43073861 0.43720466 0.4267595  0.44317333\n",
      " 0.44342202 0.41706042 0.42501864 0.42825164 0.43372294 0.42999255\n",
      " 0.43969161 0.45013677 0.43894553 0.44043772 0.45411588 0.45162894\n",
      " 0.48545137 0.49042523 0.4981348  0.48097487 0.48445657 0.4929122\n",
      " 0.49490175 0.48918178 0.48594878 0.47003232 0.45013677 0.46058193\n",
      " 0.46257149 0.45585674 0.4578463  0.46182541 0.46804276 0.4663019\n",
      " 0.46505846 0.4697836  0.47177315 0.40412832 0.40860481 0.39393185\n",
      " 0.40537176 0.40387962 0.40586918 0.40984826 0.40885351 0.40537176\n",
      " 0.39815965 0.40686398 0.40885351 0.39318574 0.38622235 0.3884606\n",
      " 0.37776672 0.37950758 0.3914449  0.38796318 0.39194229 0.40984826\n",
      " 0.38895794 0.39840835 0.39865707 0.3926884  0.38945535 0.39691621\n",
      " 0.40835612 0.40835612 0.40139265 0.3829893  0.38199454 0.37353891\n",
      " 0.37478238 0.36433722 0.37403632 0.37527977 0.36856502 0.38970404\n",
      " 0.38995274 0.38796318 0.4003979  0.35147825 0.35326022 0.35263571\n",
      " 0.34989125 0.34561467 0.3403897  0.3346726  0.32877281 0.32287827\n",
      " 0.31709325 0.3114709  0.30603626 0.30080065 0.29576918 0.29094315\n",
      " 0.286322   0.28190246 0.27767926 0.27364469]\n",
      "19 day output [[0.26978892]]\n",
      "20 day input [0.42949514 0.43073861 0.43720466 0.4267595  0.44317333 0.44342202\n",
      " 0.41706042 0.42501864 0.42825164 0.43372294 0.42999255 0.43969161\n",
      " 0.45013677 0.43894553 0.44043772 0.45411588 0.45162894 0.48545137\n",
      " 0.49042523 0.4981348  0.48097487 0.48445657 0.4929122  0.49490175\n",
      " 0.48918178 0.48594878 0.47003232 0.45013677 0.46058193 0.46257149\n",
      " 0.45585674 0.4578463  0.46182541 0.46804276 0.4663019  0.46505846\n",
      " 0.4697836  0.47177315 0.40412832 0.40860481 0.39393185 0.40537176\n",
      " 0.40387962 0.40586918 0.40984826 0.40885351 0.40537176 0.39815965\n",
      " 0.40686398 0.40885351 0.39318574 0.38622235 0.3884606  0.37776672\n",
      " 0.37950758 0.3914449  0.38796318 0.39194229 0.40984826 0.38895794\n",
      " 0.39840835 0.39865707 0.3926884  0.38945535 0.39691621 0.40835612\n",
      " 0.40835612 0.40139265 0.3829893  0.38199454 0.37353891 0.37478238\n",
      " 0.36433722 0.37403632 0.37527977 0.36856502 0.38970404 0.38995274\n",
      " 0.38796318 0.4003979  0.35147825 0.35326022 0.35263571 0.34989125\n",
      " 0.34561467 0.3403897  0.3346726  0.32877281 0.32287827 0.31709325\n",
      " 0.3114709  0.30603626 0.30080065 0.29576918 0.29094315 0.286322\n",
      " 0.28190246 0.27767926 0.27364469 0.26978892]\n",
      "20 day output [[0.26610062]]\n",
      "21 day input [0.43073861 0.43720466 0.4267595  0.44317333 0.44342202 0.41706042\n",
      " 0.42501864 0.42825164 0.43372294 0.42999255 0.43969161 0.45013677\n",
      " 0.43894553 0.44043772 0.45411588 0.45162894 0.48545137 0.49042523\n",
      " 0.4981348  0.48097487 0.48445657 0.4929122  0.49490175 0.48918178\n",
      " 0.48594878 0.47003232 0.45013677 0.46058193 0.46257149 0.45585674\n",
      " 0.4578463  0.46182541 0.46804276 0.4663019  0.46505846 0.4697836\n",
      " 0.47177315 0.40412832 0.40860481 0.39393185 0.40537176 0.40387962\n",
      " 0.40586918 0.40984826 0.40885351 0.40537176 0.39815965 0.40686398\n",
      " 0.40885351 0.39318574 0.38622235 0.3884606  0.37776672 0.37950758\n",
      " 0.3914449  0.38796318 0.39194229 0.40984826 0.38895794 0.39840835\n",
      " 0.39865707 0.3926884  0.38945535 0.39691621 0.40835612 0.40835612\n",
      " 0.40139265 0.3829893  0.38199454 0.37353891 0.37478238 0.36433722\n",
      " 0.37403632 0.37527977 0.36856502 0.38970404 0.38995274 0.38796318\n",
      " 0.4003979  0.35147825 0.35326022 0.35263571 0.34989125 0.34561467\n",
      " 0.3403897  0.3346726  0.32877281 0.32287827 0.31709325 0.3114709\n",
      " 0.30603626 0.30080065 0.29576918 0.29094315 0.286322   0.28190246\n",
      " 0.27767926 0.27364469 0.26978892 0.26610062]\n",
      "21 day output [[0.2625671]]\n",
      "22 day input [0.43720466 0.4267595  0.44317333 0.44342202 0.41706042 0.42501864\n",
      " 0.42825164 0.43372294 0.42999255 0.43969161 0.45013677 0.43894553\n",
      " 0.44043772 0.45411588 0.45162894 0.48545137 0.49042523 0.4981348\n",
      " 0.48097487 0.48445657 0.4929122  0.49490175 0.48918178 0.48594878\n",
      " 0.47003232 0.45013677 0.46058193 0.46257149 0.45585674 0.4578463\n",
      " 0.46182541 0.46804276 0.4663019  0.46505846 0.4697836  0.47177315\n",
      " 0.40412832 0.40860481 0.39393185 0.40537176 0.40387962 0.40586918\n",
      " 0.40984826 0.40885351 0.40537176 0.39815965 0.40686398 0.40885351\n",
      " 0.39318574 0.38622235 0.3884606  0.37776672 0.37950758 0.3914449\n",
      " 0.38796318 0.39194229 0.40984826 0.38895794 0.39840835 0.39865707\n",
      " 0.3926884  0.38945535 0.39691621 0.40835612 0.40835612 0.40139265\n",
      " 0.3829893  0.38199454 0.37353891 0.37478238 0.36433722 0.37403632\n",
      " 0.37527977 0.36856502 0.38970404 0.38995274 0.38796318 0.4003979\n",
      " 0.35147825 0.35326022 0.35263571 0.34989125 0.34561467 0.3403897\n",
      " 0.3346726  0.32877281 0.32287827 0.31709325 0.3114709  0.30603626\n",
      " 0.30080065 0.29576918 0.29094315 0.286322   0.28190246 0.27767926\n",
      " 0.27364469 0.26978892 0.26610062 0.2625671 ]\n",
      "22 day output [[0.25917494]]\n",
      "23 day input [0.4267595  0.44317333 0.44342202 0.41706042 0.42501864 0.42825164\n",
      " 0.43372294 0.42999255 0.43969161 0.45013677 0.43894553 0.44043772\n",
      " 0.45411588 0.45162894 0.48545137 0.49042523 0.4981348  0.48097487\n",
      " 0.48445657 0.4929122  0.49490175 0.48918178 0.48594878 0.47003232\n",
      " 0.45013677 0.46058193 0.46257149 0.45585674 0.4578463  0.46182541\n",
      " 0.46804276 0.4663019  0.46505846 0.4697836  0.47177315 0.40412832\n",
      " 0.40860481 0.39393185 0.40537176 0.40387962 0.40586918 0.40984826\n",
      " 0.40885351 0.40537176 0.39815965 0.40686398 0.40885351 0.39318574\n",
      " 0.38622235 0.3884606  0.37776672 0.37950758 0.3914449  0.38796318\n",
      " 0.39194229 0.40984826 0.38895794 0.39840835 0.39865707 0.3926884\n",
      " 0.38945535 0.39691621 0.40835612 0.40835612 0.40139265 0.3829893\n",
      " 0.38199454 0.37353891 0.37478238 0.36433722 0.37403632 0.37527977\n",
      " 0.36856502 0.38970404 0.38995274 0.38796318 0.4003979  0.35147825\n",
      " 0.35326022 0.35263571 0.34989125 0.34561467 0.3403897  0.3346726\n",
      " 0.32877281 0.32287827 0.31709325 0.3114709  0.30603626 0.30080065\n",
      " 0.29576918 0.29094315 0.286322   0.28190246 0.27767926 0.27364469\n",
      " 0.26978892 0.26610062 0.2625671  0.25917494]\n",
      "23 day output [[0.25591063]]\n",
      "24 day input [0.44317333 0.44342202 0.41706042 0.42501864 0.42825164 0.43372294\n",
      " 0.42999255 0.43969161 0.45013677 0.43894553 0.44043772 0.45411588\n",
      " 0.45162894 0.48545137 0.49042523 0.4981348  0.48097487 0.48445657\n",
      " 0.4929122  0.49490175 0.48918178 0.48594878 0.47003232 0.45013677\n",
      " 0.46058193 0.46257149 0.45585674 0.4578463  0.46182541 0.46804276\n",
      " 0.4663019  0.46505846 0.4697836  0.47177315 0.40412832 0.40860481\n",
      " 0.39393185 0.40537176 0.40387962 0.40586918 0.40984826 0.40885351\n",
      " 0.40537176 0.39815965 0.40686398 0.40885351 0.39318574 0.38622235\n",
      " 0.3884606  0.37776672 0.37950758 0.3914449  0.38796318 0.39194229\n",
      " 0.40984826 0.38895794 0.39840835 0.39865707 0.3926884  0.38945535\n",
      " 0.39691621 0.40835612 0.40835612 0.40139265 0.3829893  0.38199454\n",
      " 0.37353891 0.37478238 0.36433722 0.37403632 0.37527977 0.36856502\n",
      " 0.38970404 0.38995274 0.38796318 0.4003979  0.35147825 0.35326022\n",
      " 0.35263571 0.34989125 0.34561467 0.3403897  0.3346726  0.32877281\n",
      " 0.32287827 0.31709325 0.3114709  0.30603626 0.30080065 0.29576918\n",
      " 0.29094315 0.286322   0.28190246 0.27767926 0.27364469 0.26978892\n",
      " 0.26610062 0.2625671  0.25917494 0.25591063]\n",
      "24 day output [[0.25276065]]\n",
      "25 day input [0.44342202 0.41706042 0.42501864 0.42825164 0.43372294 0.42999255\n",
      " 0.43969161 0.45013677 0.43894553 0.44043772 0.45411588 0.45162894\n",
      " 0.48545137 0.49042523 0.4981348  0.48097487 0.48445657 0.4929122\n",
      " 0.49490175 0.48918178 0.48594878 0.47003232 0.45013677 0.46058193\n",
      " 0.46257149 0.45585674 0.4578463  0.46182541 0.46804276 0.4663019\n",
      " 0.46505846 0.4697836  0.47177315 0.40412832 0.40860481 0.39393185\n",
      " 0.40537176 0.40387962 0.40586918 0.40984826 0.40885351 0.40537176\n",
      " 0.39815965 0.40686398 0.40885351 0.39318574 0.38622235 0.3884606\n",
      " 0.37776672 0.37950758 0.3914449  0.38796318 0.39194229 0.40984826\n",
      " 0.38895794 0.39840835 0.39865707 0.3926884  0.38945535 0.39691621\n",
      " 0.40835612 0.40835612 0.40139265 0.3829893  0.38199454 0.37353891\n",
      " 0.37478238 0.36433722 0.37403632 0.37527977 0.36856502 0.38970404\n",
      " 0.38995274 0.38796318 0.4003979  0.35147825 0.35326022 0.35263571\n",
      " 0.34989125 0.34561467 0.3403897  0.3346726  0.32877281 0.32287827\n",
      " 0.31709325 0.3114709  0.30603626 0.30080065 0.29576918 0.29094315\n",
      " 0.286322   0.28190246 0.27767926 0.27364469 0.26978892 0.26610062\n",
      " 0.2625671  0.25917494 0.25591063 0.25276065]\n",
      "25 day output [[0.2497121]]\n",
      "26 day input [0.41706042 0.42501864 0.42825164 0.43372294 0.42999255 0.43969161\n",
      " 0.45013677 0.43894553 0.44043772 0.45411588 0.45162894 0.48545137\n",
      " 0.49042523 0.4981348  0.48097487 0.48445657 0.4929122  0.49490175\n",
      " 0.48918178 0.48594878 0.47003232 0.45013677 0.46058193 0.46257149\n",
      " 0.45585674 0.4578463  0.46182541 0.46804276 0.4663019  0.46505846\n",
      " 0.4697836  0.47177315 0.40412832 0.40860481 0.39393185 0.40537176\n",
      " 0.40387962 0.40586918 0.40984826 0.40885351 0.40537176 0.39815965\n",
      " 0.40686398 0.40885351 0.39318574 0.38622235 0.3884606  0.37776672\n",
      " 0.37950758 0.3914449  0.38796318 0.39194229 0.40984826 0.38895794\n",
      " 0.39840835 0.39865707 0.3926884  0.38945535 0.39691621 0.40835612\n",
      " 0.40835612 0.40139265 0.3829893  0.38199454 0.37353891 0.37478238\n",
      " 0.36433722 0.37403632 0.37527977 0.36856502 0.38970404 0.38995274\n",
      " 0.38796318 0.4003979  0.35147825 0.35326022 0.35263571 0.34989125\n",
      " 0.34561467 0.3403897  0.3346726  0.32877281 0.32287827 0.31709325\n",
      " 0.3114709  0.30603626 0.30080065 0.29576918 0.29094315 0.286322\n",
      " 0.28190246 0.27767926 0.27364469 0.26978892 0.26610062 0.2625671\n",
      " 0.25917494 0.25591063 0.25276065 0.24971209]\n",
      "26 day output [[0.2467528]]\n",
      "27 day input [0.42501864 0.42825164 0.43372294 0.42999255 0.43969161 0.45013677\n",
      " 0.43894553 0.44043772 0.45411588 0.45162894 0.48545137 0.49042523\n",
      " 0.4981348  0.48097487 0.48445657 0.4929122  0.49490175 0.48918178\n",
      " 0.48594878 0.47003232 0.45013677 0.46058193 0.46257149 0.45585674\n",
      " 0.4578463  0.46182541 0.46804276 0.4663019  0.46505846 0.4697836\n",
      " 0.47177315 0.40412832 0.40860481 0.39393185 0.40537176 0.40387962\n",
      " 0.40586918 0.40984826 0.40885351 0.40537176 0.39815965 0.40686398\n",
      " 0.40885351 0.39318574 0.38622235 0.3884606  0.37776672 0.37950758\n",
      " 0.3914449  0.38796318 0.39194229 0.40984826 0.38895794 0.39840835\n",
      " 0.39865707 0.3926884  0.38945535 0.39691621 0.40835612 0.40835612\n",
      " 0.40139265 0.3829893  0.38199454 0.37353891 0.37478238 0.36433722\n",
      " 0.37403632 0.37527977 0.36856502 0.38970404 0.38995274 0.38796318\n",
      " 0.4003979  0.35147825 0.35326022 0.35263571 0.34989125 0.34561467\n",
      " 0.3403897  0.3346726  0.32877281 0.32287827 0.31709325 0.3114709\n",
      " 0.30603626 0.30080065 0.29576918 0.29094315 0.286322   0.28190246\n",
      " 0.27767926 0.27364469 0.26978892 0.26610062 0.2625671  0.25917494\n",
      " 0.25591063 0.25276065 0.24971209 0.2467528 ]\n",
      "27 day output [[0.2438716]]\n",
      "28 day input [0.42825164 0.43372294 0.42999255 0.43969161 0.45013677 0.43894553\n",
      " 0.44043772 0.45411588 0.45162894 0.48545137 0.49042523 0.4981348\n",
      " 0.48097487 0.48445657 0.4929122  0.49490175 0.48918178 0.48594878\n",
      " 0.47003232 0.45013677 0.46058193 0.46257149 0.45585674 0.4578463\n",
      " 0.46182541 0.46804276 0.4663019  0.46505846 0.4697836  0.47177315\n",
      " 0.40412832 0.40860481 0.39393185 0.40537176 0.40387962 0.40586918\n",
      " 0.40984826 0.40885351 0.40537176 0.39815965 0.40686398 0.40885351\n",
      " 0.39318574 0.38622235 0.3884606  0.37776672 0.37950758 0.3914449\n",
      " 0.38796318 0.39194229 0.40984826 0.38895794 0.39840835 0.39865707\n",
      " 0.3926884  0.38945535 0.39691621 0.40835612 0.40835612 0.40139265\n",
      " 0.3829893  0.38199454 0.37353891 0.37478238 0.36433722 0.37403632\n",
      " 0.37527977 0.36856502 0.38970404 0.38995274 0.38796318 0.4003979\n",
      " 0.35147825 0.35326022 0.35263571 0.34989125 0.34561467 0.3403897\n",
      " 0.3346726  0.32877281 0.32287827 0.31709325 0.3114709  0.30603626\n",
      " 0.30080065 0.29576918 0.29094315 0.286322   0.28190246 0.27767926\n",
      " 0.27364469 0.26978892 0.26610062 0.2625671  0.25917494 0.25591063\n",
      " 0.25276065 0.24971209 0.2467528  0.2438716 ]\n",
      "28 day output [[0.24105838]]\n",
      "29 day input [0.43372294 0.42999255 0.43969161 0.45013677 0.43894553 0.44043772\n",
      " 0.45411588 0.45162894 0.48545137 0.49042523 0.4981348  0.48097487\n",
      " 0.48445657 0.4929122  0.49490175 0.48918178 0.48594878 0.47003232\n",
      " 0.45013677 0.46058193 0.46257149 0.45585674 0.4578463  0.46182541\n",
      " 0.46804276 0.4663019  0.46505846 0.4697836  0.47177315 0.40412832\n",
      " 0.40860481 0.39393185 0.40537176 0.40387962 0.40586918 0.40984826\n",
      " 0.40885351 0.40537176 0.39815965 0.40686398 0.40885351 0.39318574\n",
      " 0.38622235 0.3884606  0.37776672 0.37950758 0.3914449  0.38796318\n",
      " 0.39194229 0.40984826 0.38895794 0.39840835 0.39865707 0.3926884\n",
      " 0.38945535 0.39691621 0.40835612 0.40835612 0.40139265 0.3829893\n",
      " 0.38199454 0.37353891 0.37478238 0.36433722 0.37403632 0.37527977\n",
      " 0.36856502 0.38970404 0.38995274 0.38796318 0.4003979  0.35147825\n",
      " 0.35326022 0.35263571 0.34989125 0.34561467 0.3403897  0.3346726\n",
      " 0.32877281 0.32287827 0.31709325 0.3114709  0.30603626 0.30080065\n",
      " 0.29576918 0.29094315 0.286322   0.28190246 0.27767926 0.27364469\n",
      " 0.26978892 0.26610062 0.2625671  0.25917494 0.25591063 0.25276065\n",
      " 0.24971209 0.2467528  0.2438716  0.24105838]\n",
      "29 day output [[0.23830436]]\n",
      "[[0.35147824883461], [0.35326021909713745], [0.3526357114315033], [0.3498912453651428], [0.3456146717071533], [0.3403896987438202], [0.33467260003089905], [0.32877281308174133], [0.32287827134132385], [0.31709325313568115], [0.3114708960056305], [0.3060362637042999], [0.3008006513118744], [0.29576918482780457], [0.2909431457519531], [0.2863219976425171], [0.2819024622440338], [0.2776792645454407], [0.27364468574523926], [0.269788920879364], [0.26610061526298523], [0.26256710290908813], [0.2591749429702759], [0.25591063499450684], [0.252760648727417], [0.24971209466457367], [0.2467527985572815], [0.24387159943580627], [0.2410583794116974], [0.23830436170101166]]\n"
     ]
    }
   ],
   "source": [
    "# demonstrate prediction for next 29 days\n",
    "from numpy import array\n",
    "\n",
    "lst_output=[]\n",
    "n_steps=100\n",
    "i=0\n",
    "while(i<30):\n",
    "    \n",
    "    if(len(temp_input)>100):\n",
    "        #print(temp_input)\n",
    "        x_input=np.array(temp_input[1:])\n",
    "        print(\"{} day input {}\".format(i,x_input))\n",
    "        x_input=x_input.reshape(1,-1)\n",
    "        x_input = x_input.reshape((1, n_steps, 1))\n",
    "        #print(x_input)\n",
    "        yhat = model.predict(x_input, verbose=0)\n",
    "        print(\"{} day output {}\".format(i,yhat))\n",
    "        temp_input.extend(yhat[0].tolist())\n",
    "        temp_input=temp_input[1:]\n",
    "        #print(temp_input)\n",
    "        lst_output.extend(yhat.tolist())\n",
    "        i=i+1\n",
    "    else:\n",
    "        x_input = x_input.reshape((1, n_steps,1))\n",
    "        yhat = model.predict(x_input, verbose=0)\n",
    "        print(yhat[0])\n",
    "        temp_input.extend(yhat[0].tolist())\n",
    "        print(len(temp_input))\n",
    "        lst_output.extend(yhat.tolist())\n",
    "        i=i+1\n",
    "    \n",
    "\n",
    "print(lst_output)"
   ]
  },
  {
   "cell_type": "code",
   "execution_count": null,
   "metadata": {
    "id": "LPNF7mHyfv5_"
   },
   "outputs": [],
   "source": [
    "day_new=np.arange(1,101)\n",
    "day_pred=np.arange(101,131)"
   ]
  },
  {
   "cell_type": "code",
   "execution_count": null,
   "metadata": {
    "id": "PiH_XyodfwBf"
   },
   "outputs": [],
   "source": [
    "import matplotlib.pyplot as plt\n"
   ]
  },
  {
   "cell_type": "code",
   "execution_count": null,
   "metadata": {
    "colab": {
     "base_uri": "https://localhost:8080/"
    },
    "id": "OhMjD77ydgo2",
    "outputId": "89e05cc0-3273-4ba7-84b0-a020accb2f77"
   },
   "outputs": [
    {
     "data": {
      "text/plain": [
       "1258"
      ]
     },
     "execution_count": 47,
     "metadata": {},
     "output_type": "execute_result"
    }
   ],
   "source": [
    "len(df1)"
   ]
  },
  {
   "cell_type": "code",
   "execution_count": null,
   "metadata": {
    "colab": {
     "base_uri": "https://localhost:8080/",
     "height": 283
    },
    "id": "Z1Wa_yN0dgyO",
    "outputId": "e9b43542-1e32-45c6-cff6-6d362eda72b3"
   },
   "outputs": [
    {
     "data": {
      "text/plain": [
       "[<matplotlib.lines.Line2D at 0x7fb878ae8cd0>]"
      ]
     },
     "execution_count": 48,
     "metadata": {},
     "output_type": "execute_result"
    },
    {
     "data": {
      "image/png": "[encoded data removed]",
      "text/plain": [
       "<Figure size 432x288 with 1 Axes>"
      ]
     },
     "metadata": {
      "needs_background": "light"
     },
     "output_type": "display_data"
    }
   ],
   "source": [
    "plt.plot(day_new,scaler.inverse_transform(df1[1158:]))\n",
    "plt.plot(day_pred,scaler.inverse_transform(lst_output))"
   ]
  },
  {
   "cell_type": "code",
   "execution_count": null,
   "metadata": {
    "colab": {
     "base_uri": "https://localhost:8080/",
     "height": 283
    },
    "id": "fnwU6McKkyD5",
    "outputId": "0945b28f-3cbe-4758-faa9-9100ecc592a9"
   },
   "outputs": [
    {
     "data": {
      "text/plain": [
       "[<matplotlib.lines.Line2D at 0x7fb878b9aed0>]"
      ]
     },
     "execution_count": 49,
     "metadata": {},
     "output_type": "execute_result"
    },
    {
     "data": {
      "image/png": "[encoded data removed]",
      "text/plain": [
       "<Figure size 432x288 with 1 Axes>"
      ]
     },
     "metadata": {
      "needs_background": "light"
     },
     "output_type": "display_data"
    }
   ],
   "source": [
    "df3=df1.tolist()\n",
    "df3.extend(lst_output)\n",
    "plt.plot(scaler.inverse_transform(df3[1200:]))"
   ]
  },
  {
   "cell_type": "code",
   "execution_count": null,
   "metadata": {
    "id": "PfP16XRBkyPd"
   },
   "outputs": [],
   "source": [
    "df3=scaler.inverse_transform(df3).tolist()"
   ]
  },
  {
   "cell_type": "code",
   "execution_count": null,
   "metadata": {
    "colab": {
     "base_uri": "https://localhost:8080/",
     "height": 283
    },
    "id": "pNVXVgOukyTJ",
    "outputId": "538f9cff-68c0-4456-912d-f8824e1db741"
   },
   "outputs": [
    {
     "data": {
      "text/plain": [
       "[<matplotlib.lines.Line2D at 0x7fb878ba6310>]"
      ]
     },
     "execution_count": 51,
     "metadata": {},
     "output_type": "execute_result"
    },
    {
     "data": {
      "image/png": "[encoded data removed]",
      "text/plain": [
       "<Figure size 432x288 with 1 Axes>"
      ]
     },
     "metadata": {
      "needs_background": "light"
     },
     "output_type": "display_data"
    }
   ],
   "source": [
    "plt.plot(df3)\n"
   ]
  },
  {
   "cell_type": "code",
   "execution_count": null,
   "metadata": {
    "id": "z1rN4bh9kyZQ"
   },
   "outputs": [],
   "source": [
    "RA=pd.read_csv('Tata Motors Limited.csv')\n"
   ]
  },
  {
   "cell_type": "code",
   "execution_count": null,
   "metadata": {
    "id": "4nzEr5lmkycx"
   },
   "outputs": [],
   "source": [
    "df2=RA.reset_index()['close']\n",
    "ZF2=RA.reset_index()['date']"
   ]
  },
  {
   "cell_type": "code",
   "execution_count": null,
   "metadata": {
    "colab": {
     "base_uri": "https://localhost:8080/",
     "height": 283
    },
    "id": "oWWO33bykye3",
    "outputId": "d8324406-e452-417b-d814-986b6538e70d"
   },
   "outputs": [
    {
     "data": {
      "text/plain": [
       "[<matplotlib.lines.Line2D at 0x7fb8789a7cd0>]"
      ]
     },
     "execution_count": 54,
     "metadata": {},
     "output_type": "execute_result"
    },
    {
     "data": {
      "image/png": "[encoded data removed]",
      "text/plain": [
       "<Figure size 432x288 with 1 Axes>"
      ]
     },
     "metadata": {
      "needs_background": "light"
     },
     "output_type": "display_data"
    }
   ],
   "source": [
    "plt.plot(df2)\n"
   ]
  },
  {
   "cell_type": "code",
   "execution_count": null,
   "metadata": {
    "colab": {
     "base_uri": "https://localhost:8080/",
     "height": 409
    },
    "id": "QjQw52lg17DP",
    "outputId": "d585b7d0-2b2d-408e-c70a-08dcc5a679b9"
   },
   "outputs": [
    {
     "name": "stderr",
     "output_type": "stream",
     "text": [
      "/usr/local/lib/python3.7/dist-packages/numpy/core/fromnumeric.py:3441: RuntimeWarning: Mean of empty slice.\n",
      "  out=out, **kwargs)\n",
      "/usr/local/lib/python3.7/dist-packages/numpy/core/_methods.py:189: RuntimeWarning: invalid value encountered in double_scalars\n",
      "  ret = ret.dtype.type(ret / rcount)\n"
     ]
    },
    {
     "data": {
      "image/png": "[encoded data removed]",
      "text/plain": [
       "<Figure size 1080x360 with 1 Axes>"
      ]
     },
     "metadata": {
      "needs_background": "light"
     },
     "output_type": "display_data"
    }
   ],
   "source": [
    "results = []\n",
    "accuracies = [calculate_accuracy(df['Close'].iloc[-test_size:].values, r) for r in results]\n",
    "\n",
    "plt.figure(figsize = (15, 5))\n",
    "for no, r in enumerate(results):\n",
    "    plt.plot(r, label = 'forecast %d'%(no + 1))\n",
    "plt.plot(df['Close'].iloc[-test_size:].values, label = 'true trend', c = 'black')\n",
    "plt.legend()\n",
    "plt.title('average accuracy: %.4f'%(np.mean(accuracies)))\n",
    "plt.show()"
   ]
  }
 ],
 "metadata": {
  "colab": {
   "name": "STOCK PRICE PREDICTION.ipynb",
   "provenance": []
  },
  "kernelspec": {
   "display_name": "Python 3",
   "language": "python",
   "name": "python3"
  },
  "language_info": {
   "codemirror_mode": {
    "name": "ipython",
    "version": 3
   },
   "file_extension": ".py",
   "mimetype": "text/x-python",
   "name": "python",
   "nbconvert_exporter": "python",
   "pygments_lexer": "ipython3",
   "version": "3.8.8"
  }
 },
 "nbformat": 4,
 "nbformat_minor": 1
}
